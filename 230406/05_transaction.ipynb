{
 "cells": [
  {
   "attachments": {},
   "cell_type": "markdown",
   "metadata": {},
   "source": [
    "## 예제\n",
    "1. csv 폴더에서 4개의 파일을 로드(tran1.tran2.tran_d_1,trand_d_2)\n",
    "2. tran_1과 tran_2는 단순한 행 추가 결합(유니언 결합)\n",
    "3. tran_d_1, tran_d_2도 유니언 결합\n",
    "4. 2번,3번 과정에서 나온 데이터프레임을 특정 조건에 맞춰서 2번 데이터프레임 기준으로 열 추가 결합(조인 결합)\n",
    "5. csv폴더에 있는 2개의 파일 로드(custom_master, item_master)\n",
    "6. 4번 과정에서 나온 데이터프레임과 custom_master 조인 결합\n",
    "7. 6번 과정에서 나온 데이터프레임과 item_mater 조인 결합\n",
    "8. 결합이 된 데이터프레임에서 quantity컬럼과 item_price컬럼의 데이터를 가지고 total_price라는 파생변수를 생성(total_price=item_price*quantity)"
   ]
  },
  {
   "cell_type": "code",
   "execution_count": 34,
   "metadata": {},
   "outputs": [],
   "source": [
    "import pandas as pd"
   ]
  },
  {
   "cell_type": "code",
   "execution_count": 35,
   "metadata": {},
   "outputs": [],
   "source": [
    "tran1=pd.read_csv(\"../csv/tran_1.csv\")\n",
    "tran2=pd.read_csv(\"../csv/tran_2.csv\")\n",
    "tran_d_1=pd.read_csv(\"../csv/tran_d_1.csv\")\n",
    "tran_d_2=pd.read_csv(\"../csv/tran_d_2.csv\")"
   ]
  },
  {
   "cell_type": "code",
   "execution_count": 36,
   "metadata": {},
   "outputs": [
    {
     "data": {
      "text/plain": [
       "Index(['transaction_id', 'price', 'payment_date', 'customer_id'], dtype='object')"
      ]
     },
     "execution_count": 36,
     "metadata": {},
     "output_type": "execute_result"
    }
   ],
   "source": [
    "N_1=pd.concat([tran1,tran2],axis=0)\n",
    "N_1.columns"
   ]
  },
  {
   "cell_type": "code",
   "execution_count": 37,
   "metadata": {},
   "outputs": [
    {
     "data": {
      "text/plain": [
       "Index(['detail_id', 'transaction_id', 'item_id', 'quantity'], dtype='object')"
      ]
     },
     "execution_count": 37,
     "metadata": {},
     "output_type": "execute_result"
    }
   ],
   "source": [
    "N_2=pd.concat([tran_d_1,tran_d_2],axis=0)\n",
    "N_2.columns"
   ]
  },
  {
   "cell_type": "code",
   "execution_count": 38,
   "metadata": {},
   "outputs": [
    {
     "data": {
      "text/plain": [
       "Index(['transaction_id', 'price', 'payment_date', 'customer_id', 'detail_id',\n",
       "       'item_id', 'quantity'],\n",
       "      dtype='object')"
      ]
     },
     "execution_count": 38,
     "metadata": {},
     "output_type": "execute_result"
    }
   ],
   "source": [
    "N_J_1=pd.merge(N_1,N_2, on='transaction_id',how='left' )\n",
    "N_J_1.columns"
   ]
  },
  {
   "cell_type": "code",
   "execution_count": 39,
   "metadata": {},
   "outputs": [
    {
     "data": {
      "text/plain": [
       "Index(['item_id', 'item_name', 'item_price'], dtype='object')"
      ]
     },
     "execution_count": 39,
     "metadata": {},
     "output_type": "execute_result"
    }
   ],
   "source": [
    "custom_master=pd.read_csv(\"../csv/customer_master.csv\")\n",
    "item_master=pd.read_csv(\"../csv/item_master.csv\")\n",
    "item_master.columns"
   ]
  },
  {
   "cell_type": "code",
   "execution_count": 40,
   "metadata": {},
   "outputs": [
    {
     "data": {
      "text/plain": [
       "Index(['transaction_id', 'price', 'payment_date', 'customer_id', 'detail_id',\n",
       "       'item_id', 'quantity', 'name', 'class', 'gender', 'start_date',\n",
       "       'end_date', 'campaign_id', 'is_deleted'],\n",
       "      dtype='object')"
      ]
     },
     "execution_count": 40,
     "metadata": {},
     "output_type": "execute_result"
    }
   ],
   "source": [
    "N_J_2=pd.merge(N_J_1,custom_master,on='customer_id',how='inner')\n",
    "N_J_2.columns"
   ]
  },
  {
   "cell_type": "code",
   "execution_count": 41,
   "metadata": {},
   "outputs": [],
   "source": [
    "N_J_3=pd.merge(N_J_2,item_master,on='item_id',how='inner')"
   ]
  },
  {
   "cell_type": "code",
   "execution_count": 42,
   "metadata": {},
   "outputs": [],
   "source": [
    "N_J_3['total_price']=N_J_3['quantity']*N_J_3['item_price']"
   ]
  },
  {
   "cell_type": "code",
   "execution_count": 43,
   "metadata": {},
   "outputs": [
    {
     "data": {
      "text/html": [
       "<div>\n",
       "<style scoped>\n",
       "    .dataframe tbody tr th:only-of-type {\n",
       "        vertical-align: middle;\n",
       "    }\n",
       "\n",
       "    .dataframe tbody tr th {\n",
       "        vertical-align: top;\n",
       "    }\n",
       "\n",
       "    .dataframe thead th {\n",
       "        text-align: right;\n",
       "    }\n",
       "</style>\n",
       "<table border=\"1\" class=\"dataframe\">\n",
       "  <thead>\n",
       "    <tr style=\"text-align: right;\">\n",
       "      <th></th>\n",
       "      <th>transaction_id</th>\n",
       "      <th>price</th>\n",
       "      <th>payment_date</th>\n",
       "      <th>customer_id</th>\n",
       "      <th>detail_id</th>\n",
       "      <th>item_id</th>\n",
       "      <th>quantity</th>\n",
       "      <th>name</th>\n",
       "      <th>class</th>\n",
       "      <th>gender</th>\n",
       "      <th>start_date</th>\n",
       "      <th>end_date</th>\n",
       "      <th>campaign_id</th>\n",
       "      <th>is_deleted</th>\n",
       "      <th>item_name</th>\n",
       "      <th>item_price</th>\n",
       "      <th>total_price</th>\n",
       "    </tr>\n",
       "  </thead>\n",
       "  <tbody>\n",
       "    <tr>\n",
       "      <th>0</th>\n",
       "      <td>T0000000113</td>\n",
       "      <td>210000</td>\n",
       "      <td>2019-02-01 01:36:57</td>\n",
       "      <td>PL563502</td>\n",
       "      <td>0</td>\n",
       "      <td>S005</td>\n",
       "      <td>1</td>\n",
       "      <td>XX</td>\n",
       "      <td>C01</td>\n",
       "      <td>M</td>\n",
       "      <td>2018-07-01 00:00:00</td>\n",
       "      <td>NaN</td>\n",
       "      <td>CA1</td>\n",
       "      <td>0</td>\n",
       "      <td>PC-E</td>\n",
       "      <td>210000</td>\n",
       "      <td>210000</td>\n",
       "    </tr>\n",
       "    <tr>\n",
       "      <th>1</th>\n",
       "      <td>T0000003439</td>\n",
       "      <td>420000</td>\n",
       "      <td>2019-04-30 02:39:00</td>\n",
       "      <td>HD298120</td>\n",
       "      <td>3494</td>\n",
       "      <td>S005</td>\n",
       "      <td>1</td>\n",
       "      <td>XXXXX</td>\n",
       "      <td>C02</td>\n",
       "      <td>F</td>\n",
       "      <td>2017-07-01 00:00:00</td>\n",
       "      <td>NaN</td>\n",
       "      <td>CA2</td>\n",
       "      <td>0</td>\n",
       "      <td>PC-E</td>\n",
       "      <td>210000</td>\n",
       "      <td>210000</td>\n",
       "    </tr>\n",
       "    <tr>\n",
       "      <th>2</th>\n",
       "      <td>T0000003439</td>\n",
       "      <td>420000</td>\n",
       "      <td>2019-04-30 02:39:00</td>\n",
       "      <td>HD298120</td>\n",
       "      <td>3495</td>\n",
       "      <td>S005</td>\n",
       "      <td>1</td>\n",
       "      <td>XXXXX</td>\n",
       "      <td>C02</td>\n",
       "      <td>F</td>\n",
       "      <td>2017-07-01 00:00:00</td>\n",
       "      <td>NaN</td>\n",
       "      <td>CA2</td>\n",
       "      <td>0</td>\n",
       "      <td>PC-E</td>\n",
       "      <td>210000</td>\n",
       "      <td>210000</td>\n",
       "    </tr>\n",
       "    <tr>\n",
       "      <th>3</th>\n",
       "      <td>T0000000116</td>\n",
       "      <td>210000</td>\n",
       "      <td>2019-02-01 02:47:23</td>\n",
       "      <td>IK452215</td>\n",
       "      <td>3</td>\n",
       "      <td>S005</td>\n",
       "      <td>1</td>\n",
       "      <td>XXXX</td>\n",
       "      <td>C03</td>\n",
       "      <td>M</td>\n",
       "      <td>2018-01-01 00:00:00</td>\n",
       "      <td>NaN</td>\n",
       "      <td>CA1</td>\n",
       "      <td>0</td>\n",
       "      <td>PC-E</td>\n",
       "      <td>210000</td>\n",
       "      <td>210000</td>\n",
       "    </tr>\n",
       "    <tr>\n",
       "      <th>4</th>\n",
       "      <td>T0000000832</td>\n",
       "      <td>210000</td>\n",
       "      <td>2019-02-19 19:48:24</td>\n",
       "      <td>IK452215</td>\n",
       "      <td>753</td>\n",
       "      <td>S005</td>\n",
       "      <td>1</td>\n",
       "      <td>XXXX</td>\n",
       "      <td>C03</td>\n",
       "      <td>M</td>\n",
       "      <td>2018-01-01 00:00:00</td>\n",
       "      <td>NaN</td>\n",
       "      <td>CA1</td>\n",
       "      <td>0</td>\n",
       "      <td>PC-E</td>\n",
       "      <td>210000</td>\n",
       "      <td>210000</td>\n",
       "    </tr>\n",
       "    <tr>\n",
       "      <th>...</th>\n",
       "      <td>...</td>\n",
       "      <td>...</td>\n",
       "      <td>...</td>\n",
       "      <td>...</td>\n",
       "      <td>...</td>\n",
       "      <td>...</td>\n",
       "      <td>...</td>\n",
       "      <td>...</td>\n",
       "      <td>...</td>\n",
       "      <td>...</td>\n",
       "      <td>...</td>\n",
       "      <td>...</td>\n",
       "      <td>...</td>\n",
       "      <td>...</td>\n",
       "      <td>...</td>\n",
       "      <td>...</td>\n",
       "      <td>...</td>\n",
       "    </tr>\n",
       "    <tr>\n",
       "      <th>6064</th>\n",
       "      <td>T0000006675</td>\n",
       "      <td>120000</td>\n",
       "      <td>2019-07-26 04:57:13</td>\n",
       "      <td>GD139734</td>\n",
       "      <td>6910</td>\n",
       "      <td>S003</td>\n",
       "      <td>1</td>\n",
       "      <td>XXXX</td>\n",
       "      <td>C03</td>\n",
       "      <td>M</td>\n",
       "      <td>2018-10-01 00:00:00</td>\n",
       "      <td>NaN</td>\n",
       "      <td>CA1</td>\n",
       "      <td>0</td>\n",
       "      <td>PC-C</td>\n",
       "      <td>120000</td>\n",
       "      <td>120000</td>\n",
       "    </tr>\n",
       "    <tr>\n",
       "      <th>6065</th>\n",
       "      <td>T0000006751</td>\n",
       "      <td>120000</td>\n",
       "      <td>2019-07-28 10:14:39</td>\n",
       "      <td>PL988722</td>\n",
       "      <td>6989</td>\n",
       "      <td>S003</td>\n",
       "      <td>1</td>\n",
       "      <td>XXX</td>\n",
       "      <td>C03</td>\n",
       "      <td>M</td>\n",
       "      <td>2017-02-01 00:00:00</td>\n",
       "      <td>NaN</td>\n",
       "      <td>CA1</td>\n",
       "      <td>0</td>\n",
       "      <td>PC-C</td>\n",
       "      <td>120000</td>\n",
       "      <td>120000</td>\n",
       "    </tr>\n",
       "    <tr>\n",
       "      <th>6066</th>\n",
       "      <td>T0000006757</td>\n",
       "      <td>120000</td>\n",
       "      <td>2019-07-28 11:23:32</td>\n",
       "      <td>HI015767</td>\n",
       "      <td>6995</td>\n",
       "      <td>S003</td>\n",
       "      <td>1</td>\n",
       "      <td>XXXXX</td>\n",
       "      <td>C03</td>\n",
       "      <td>M</td>\n",
       "      <td>2015-12-01 00:00:00</td>\n",
       "      <td>NaN</td>\n",
       "      <td>CA1</td>\n",
       "      <td>0</td>\n",
       "      <td>PC-C</td>\n",
       "      <td>120000</td>\n",
       "      <td>120000</td>\n",
       "    </tr>\n",
       "    <tr>\n",
       "      <th>6067</th>\n",
       "      <td>T0000006835</td>\n",
       "      <td>240000</td>\n",
       "      <td>2019-07-30 11:08:09</td>\n",
       "      <td>HI555356</td>\n",
       "      <td>7078</td>\n",
       "      <td>S003</td>\n",
       "      <td>2</td>\n",
       "      <td>XXXXX</td>\n",
       "      <td>C02</td>\n",
       "      <td>M</td>\n",
       "      <td>2018-07-11 00:00:00</td>\n",
       "      <td>2019-03-31 00:00:00</td>\n",
       "      <td>CA1</td>\n",
       "      <td>1</td>\n",
       "      <td>PC-C</td>\n",
       "      <td>120000</td>\n",
       "      <td>240000</td>\n",
       "    </tr>\n",
       "    <tr>\n",
       "      <th>6068</th>\n",
       "      <td>T0000006890</td>\n",
       "      <td>120000</td>\n",
       "      <td>2019-07-31 20:25:02</td>\n",
       "      <td>AS554975</td>\n",
       "      <td>7135</td>\n",
       "      <td>S003</td>\n",
       "      <td>1</td>\n",
       "      <td>XXX</td>\n",
       "      <td>C01</td>\n",
       "      <td>M</td>\n",
       "      <td>2017-09-01 00:00:00</td>\n",
       "      <td>NaN</td>\n",
       "      <td>CA1</td>\n",
       "      <td>0</td>\n",
       "      <td>PC-C</td>\n",
       "      <td>120000</td>\n",
       "      <td>120000</td>\n",
       "    </tr>\n",
       "  </tbody>\n",
       "</table>\n",
       "<p>6069 rows × 17 columns</p>\n",
       "</div>"
      ],
      "text/plain": [
       "     transaction_id   price         payment_date customer_id  detail_id  \\\n",
       "0       T0000000113  210000  2019-02-01 01:36:57    PL563502          0   \n",
       "1       T0000003439  420000  2019-04-30 02:39:00    HD298120       3494   \n",
       "2       T0000003439  420000  2019-04-30 02:39:00    HD298120       3495   \n",
       "3       T0000000116  210000  2019-02-01 02:47:23    IK452215          3   \n",
       "4       T0000000832  210000  2019-02-19 19:48:24    IK452215        753   \n",
       "...             ...     ...                  ...         ...        ...   \n",
       "6064    T0000006675  120000  2019-07-26 04:57:13    GD139734       6910   \n",
       "6065    T0000006751  120000  2019-07-28 10:14:39    PL988722       6989   \n",
       "6066    T0000006757  120000  2019-07-28 11:23:32    HI015767       6995   \n",
       "6067    T0000006835  240000  2019-07-30 11:08:09    HI555356       7078   \n",
       "6068    T0000006890  120000  2019-07-31 20:25:02    AS554975       7135   \n",
       "\n",
       "     item_id  quantity   name class gender           start_date  \\\n",
       "0       S005         1     XX   C01      M  2018-07-01 00:00:00   \n",
       "1       S005         1  XXXXX   C02      F  2017-07-01 00:00:00   \n",
       "2       S005         1  XXXXX   C02      F  2017-07-01 00:00:00   \n",
       "3       S005         1   XXXX   C03      M  2018-01-01 00:00:00   \n",
       "4       S005         1   XXXX   C03      M  2018-01-01 00:00:00   \n",
       "...      ...       ...    ...   ...    ...                  ...   \n",
       "6064    S003         1   XXXX   C03      M  2018-10-01 00:00:00   \n",
       "6065    S003         1    XXX   C03      M  2017-02-01 00:00:00   \n",
       "6066    S003         1  XXXXX   C03      M  2015-12-01 00:00:00   \n",
       "6067    S003         2  XXXXX   C02      M  2018-07-11 00:00:00   \n",
       "6068    S003         1    XXX   C01      M  2017-09-01 00:00:00   \n",
       "\n",
       "                 end_date campaign_id  is_deleted item_name  item_price  \\\n",
       "0                     NaN         CA1           0      PC-E      210000   \n",
       "1                     NaN         CA2           0      PC-E      210000   \n",
       "2                     NaN         CA2           0      PC-E      210000   \n",
       "3                     NaN         CA1           0      PC-E      210000   \n",
       "4                     NaN         CA1           0      PC-E      210000   \n",
       "...                   ...         ...         ...       ...         ...   \n",
       "6064                  NaN         CA1           0      PC-C      120000   \n",
       "6065                  NaN         CA1           0      PC-C      120000   \n",
       "6066                  NaN         CA1           0      PC-C      120000   \n",
       "6067  2019-03-31 00:00:00         CA1           1      PC-C      120000   \n",
       "6068                  NaN         CA1           0      PC-C      120000   \n",
       "\n",
       "      total_price  \n",
       "0          210000  \n",
       "1          210000  \n",
       "2          210000  \n",
       "3          210000  \n",
       "4          210000  \n",
       "...           ...  \n",
       "6064       120000  \n",
       "6065       120000  \n",
       "6066       120000  \n",
       "6067       240000  \n",
       "6068       120000  \n",
       "\n",
       "[6069 rows x 17 columns]"
      ]
     },
     "execution_count": 43,
     "metadata": {},
     "output_type": "execute_result"
    }
   ],
   "source": [
    "N_J_3"
   ]
  },
  {
   "cell_type": "code",
   "execution_count": 44,
   "metadata": {},
   "outputs": [
    {
     "data": {
      "text/plain": [
       "0      2019-02-01 01:36:57\n",
       "1      2019-04-30 02:39:00\n",
       "2      2019-04-30 02:39:00\n",
       "3      2019-02-01 02:47:23\n",
       "4      2019-02-19 19:48:24\n",
       "               ...        \n",
       "6064   2019-07-26 04:57:13\n",
       "6065   2019-07-28 10:14:39\n",
       "6066   2019-07-28 11:23:32\n",
       "6067   2019-07-30 11:08:09\n",
       "6068   2019-07-31 20:25:02\n",
       "Name: payment_date, Length: 6069, dtype: datetime64[ns]"
      ]
     },
     "execution_count": 44,
     "metadata": {},
     "output_type": "execute_result"
    }
   ],
   "source": [
    "N_J_3[\"payment_date\"]=pd.to_datetime(N_J_3[\"payment_date\"], format=\"%Y-%m-%d %H:%M:%S\")\n",
    "N_J_3[\"payment_date\"]\n"
   ]
  },
  {
   "cell_type": "code",
   "execution_count": 45,
   "metadata": {},
   "outputs": [
    {
     "data": {
      "text/plain": [
       "'PC-E'"
      ]
     },
     "execution_count": 45,
     "metadata": {},
     "output_type": "execute_result"
    }
   ],
   "source": [
    "group_data=N_J_3[['item_name','total_price']].groupby('item_name').sum()\n",
    "group_data\n",
    "group_data.sort_values('total_price',ascending=False).index[0]\n"
   ]
  },
  {
   "cell_type": "code",
   "execution_count": 46,
   "metadata": {},
   "outputs": [],
   "source": [
    "origin_data=N_J_3.copy()"
   ]
  },
  {
   "cell_type": "code",
   "execution_count": 47,
   "metadata": {},
   "outputs": [
    {
     "data": {
      "text/plain": [
       "남자    3268\n",
       "여자    2801\n",
       "Name: gender, dtype: int64"
      ]
     },
     "execution_count": 47,
     "metadata": {},
     "output_type": "execute_result"
    }
   ],
   "source": [
    "#loc를 이용하여 m,f를 변경\n",
    "# m은 남자 f는 여자\n",
    "\n",
    "N_J_3.loc[N_J_3['gender']=='M','gender']= '남자'\n",
    "N_J_3.loc[N_J_3['gender']=='F','gender']= '여자'\n",
    "\n",
    "N_J_3['gender'].value_counts()"
   ]
  },
  {
   "cell_type": "code",
   "execution_count": 48,
   "metadata": {},
   "outputs": [
    {
     "data": {
      "text/html": [
       "<div>\n",
       "<style scoped>\n",
       "    .dataframe tbody tr th:only-of-type {\n",
       "        vertical-align: middle;\n",
       "    }\n",
       "\n",
       "    .dataframe tbody tr th {\n",
       "        vertical-align: top;\n",
       "    }\n",
       "\n",
       "    .dataframe thead th {\n",
       "        text-align: right;\n",
       "    }\n",
       "</style>\n",
       "<table border=\"1\" class=\"dataframe\">\n",
       "  <thead>\n",
       "    <tr style=\"text-align: right;\">\n",
       "      <th></th>\n",
       "      <th>transaction_id</th>\n",
       "      <th>price</th>\n",
       "      <th>payment_date</th>\n",
       "      <th>customer_id</th>\n",
       "      <th>detail_id</th>\n",
       "      <th>item_id</th>\n",
       "      <th>quantity</th>\n",
       "      <th>name</th>\n",
       "      <th>class</th>\n",
       "      <th>gender</th>\n",
       "      <th>start_date</th>\n",
       "      <th>end_date</th>\n",
       "      <th>campaign_id</th>\n",
       "      <th>is_deleted</th>\n",
       "      <th>item_name</th>\n",
       "      <th>item_price</th>\n",
       "      <th>total_price</th>\n",
       "    </tr>\n",
       "  </thead>\n",
       "  <tbody>\n",
       "    <tr>\n",
       "      <th>0</th>\n",
       "      <td>T0000000113</td>\n",
       "      <td>210000</td>\n",
       "      <td>2019-02-01 01:36:57</td>\n",
       "      <td>PL563502</td>\n",
       "      <td>0</td>\n",
       "      <td>S005</td>\n",
       "      <td>1</td>\n",
       "      <td>XX</td>\n",
       "      <td>C01</td>\n",
       "      <td>M</td>\n",
       "      <td>2018-07-01 00:00:00</td>\n",
       "      <td>NaN</td>\n",
       "      <td>CA1</td>\n",
       "      <td>0</td>\n",
       "      <td>PC-E</td>\n",
       "      <td>210000</td>\n",
       "      <td>210000</td>\n",
       "    </tr>\n",
       "    <tr>\n",
       "      <th>1</th>\n",
       "      <td>T0000003439</td>\n",
       "      <td>420000</td>\n",
       "      <td>2019-04-30 02:39:00</td>\n",
       "      <td>HD298120</td>\n",
       "      <td>3494</td>\n",
       "      <td>S005</td>\n",
       "      <td>1</td>\n",
       "      <td>XXXXX</td>\n",
       "      <td>C02</td>\n",
       "      <td>F</td>\n",
       "      <td>2017-07-01 00:00:00</td>\n",
       "      <td>NaN</td>\n",
       "      <td>CA2</td>\n",
       "      <td>0</td>\n",
       "      <td>PC-E</td>\n",
       "      <td>210000</td>\n",
       "      <td>210000</td>\n",
       "    </tr>\n",
       "    <tr>\n",
       "      <th>2</th>\n",
       "      <td>T0000003439</td>\n",
       "      <td>420000</td>\n",
       "      <td>2019-04-30 02:39:00</td>\n",
       "      <td>HD298120</td>\n",
       "      <td>3495</td>\n",
       "      <td>S005</td>\n",
       "      <td>1</td>\n",
       "      <td>XXXXX</td>\n",
       "      <td>C02</td>\n",
       "      <td>F</td>\n",
       "      <td>2017-07-01 00:00:00</td>\n",
       "      <td>NaN</td>\n",
       "      <td>CA2</td>\n",
       "      <td>0</td>\n",
       "      <td>PC-E</td>\n",
       "      <td>210000</td>\n",
       "      <td>210000</td>\n",
       "    </tr>\n",
       "    <tr>\n",
       "      <th>3</th>\n",
       "      <td>T0000000116</td>\n",
       "      <td>210000</td>\n",
       "      <td>2019-02-01 02:47:23</td>\n",
       "      <td>IK452215</td>\n",
       "      <td>3</td>\n",
       "      <td>S005</td>\n",
       "      <td>1</td>\n",
       "      <td>XXXX</td>\n",
       "      <td>C03</td>\n",
       "      <td>M</td>\n",
       "      <td>2018-01-01 00:00:00</td>\n",
       "      <td>NaN</td>\n",
       "      <td>CA1</td>\n",
       "      <td>0</td>\n",
       "      <td>PC-E</td>\n",
       "      <td>210000</td>\n",
       "      <td>210000</td>\n",
       "    </tr>\n",
       "    <tr>\n",
       "      <th>4</th>\n",
       "      <td>T0000000832</td>\n",
       "      <td>210000</td>\n",
       "      <td>2019-02-19 19:48:24</td>\n",
       "      <td>IK452215</td>\n",
       "      <td>753</td>\n",
       "      <td>S005</td>\n",
       "      <td>1</td>\n",
       "      <td>XXXX</td>\n",
       "      <td>C03</td>\n",
       "      <td>M</td>\n",
       "      <td>2018-01-01 00:00:00</td>\n",
       "      <td>NaN</td>\n",
       "      <td>CA1</td>\n",
       "      <td>0</td>\n",
       "      <td>PC-E</td>\n",
       "      <td>210000</td>\n",
       "      <td>210000</td>\n",
       "    </tr>\n",
       "    <tr>\n",
       "      <th>...</th>\n",
       "      <td>...</td>\n",
       "      <td>...</td>\n",
       "      <td>...</td>\n",
       "      <td>...</td>\n",
       "      <td>...</td>\n",
       "      <td>...</td>\n",
       "      <td>...</td>\n",
       "      <td>...</td>\n",
       "      <td>...</td>\n",
       "      <td>...</td>\n",
       "      <td>...</td>\n",
       "      <td>...</td>\n",
       "      <td>...</td>\n",
       "      <td>...</td>\n",
       "      <td>...</td>\n",
       "      <td>...</td>\n",
       "      <td>...</td>\n",
       "    </tr>\n",
       "    <tr>\n",
       "      <th>6064</th>\n",
       "      <td>T0000006675</td>\n",
       "      <td>120000</td>\n",
       "      <td>2019-07-26 04:57:13</td>\n",
       "      <td>GD139734</td>\n",
       "      <td>6910</td>\n",
       "      <td>S003</td>\n",
       "      <td>1</td>\n",
       "      <td>XXXX</td>\n",
       "      <td>C03</td>\n",
       "      <td>M</td>\n",
       "      <td>2018-10-01 00:00:00</td>\n",
       "      <td>NaN</td>\n",
       "      <td>CA1</td>\n",
       "      <td>0</td>\n",
       "      <td>PC-C</td>\n",
       "      <td>120000</td>\n",
       "      <td>120000</td>\n",
       "    </tr>\n",
       "    <tr>\n",
       "      <th>6065</th>\n",
       "      <td>T0000006751</td>\n",
       "      <td>120000</td>\n",
       "      <td>2019-07-28 10:14:39</td>\n",
       "      <td>PL988722</td>\n",
       "      <td>6989</td>\n",
       "      <td>S003</td>\n",
       "      <td>1</td>\n",
       "      <td>XXX</td>\n",
       "      <td>C03</td>\n",
       "      <td>M</td>\n",
       "      <td>2017-02-01 00:00:00</td>\n",
       "      <td>NaN</td>\n",
       "      <td>CA1</td>\n",
       "      <td>0</td>\n",
       "      <td>PC-C</td>\n",
       "      <td>120000</td>\n",
       "      <td>120000</td>\n",
       "    </tr>\n",
       "    <tr>\n",
       "      <th>6066</th>\n",
       "      <td>T0000006757</td>\n",
       "      <td>120000</td>\n",
       "      <td>2019-07-28 11:23:32</td>\n",
       "      <td>HI015767</td>\n",
       "      <td>6995</td>\n",
       "      <td>S003</td>\n",
       "      <td>1</td>\n",
       "      <td>XXXXX</td>\n",
       "      <td>C03</td>\n",
       "      <td>M</td>\n",
       "      <td>2015-12-01 00:00:00</td>\n",
       "      <td>NaN</td>\n",
       "      <td>CA1</td>\n",
       "      <td>0</td>\n",
       "      <td>PC-C</td>\n",
       "      <td>120000</td>\n",
       "      <td>120000</td>\n",
       "    </tr>\n",
       "    <tr>\n",
       "      <th>6067</th>\n",
       "      <td>T0000006835</td>\n",
       "      <td>240000</td>\n",
       "      <td>2019-07-30 11:08:09</td>\n",
       "      <td>HI555356</td>\n",
       "      <td>7078</td>\n",
       "      <td>S003</td>\n",
       "      <td>2</td>\n",
       "      <td>XXXXX</td>\n",
       "      <td>C02</td>\n",
       "      <td>M</td>\n",
       "      <td>2018-07-11 00:00:00</td>\n",
       "      <td>2019-03-31 00:00:00</td>\n",
       "      <td>CA1</td>\n",
       "      <td>1</td>\n",
       "      <td>PC-C</td>\n",
       "      <td>120000</td>\n",
       "      <td>240000</td>\n",
       "    </tr>\n",
       "    <tr>\n",
       "      <th>6068</th>\n",
       "      <td>T0000006890</td>\n",
       "      <td>120000</td>\n",
       "      <td>2019-07-31 20:25:02</td>\n",
       "      <td>AS554975</td>\n",
       "      <td>7135</td>\n",
       "      <td>S003</td>\n",
       "      <td>1</td>\n",
       "      <td>XXX</td>\n",
       "      <td>C01</td>\n",
       "      <td>M</td>\n",
       "      <td>2017-09-01 00:00:00</td>\n",
       "      <td>NaN</td>\n",
       "      <td>CA1</td>\n",
       "      <td>0</td>\n",
       "      <td>PC-C</td>\n",
       "      <td>120000</td>\n",
       "      <td>120000</td>\n",
       "    </tr>\n",
       "  </tbody>\n",
       "</table>\n",
       "<p>6069 rows × 17 columns</p>\n",
       "</div>"
      ],
      "text/plain": [
       "     transaction_id   price        payment_date customer_id  detail_id  \\\n",
       "0       T0000000113  210000 2019-02-01 01:36:57    PL563502          0   \n",
       "1       T0000003439  420000 2019-04-30 02:39:00    HD298120       3494   \n",
       "2       T0000003439  420000 2019-04-30 02:39:00    HD298120       3495   \n",
       "3       T0000000116  210000 2019-02-01 02:47:23    IK452215          3   \n",
       "4       T0000000832  210000 2019-02-19 19:48:24    IK452215        753   \n",
       "...             ...     ...                 ...         ...        ...   \n",
       "6064    T0000006675  120000 2019-07-26 04:57:13    GD139734       6910   \n",
       "6065    T0000006751  120000 2019-07-28 10:14:39    PL988722       6989   \n",
       "6066    T0000006757  120000 2019-07-28 11:23:32    HI015767       6995   \n",
       "6067    T0000006835  240000 2019-07-30 11:08:09    HI555356       7078   \n",
       "6068    T0000006890  120000 2019-07-31 20:25:02    AS554975       7135   \n",
       "\n",
       "     item_id  quantity   name class gender           start_date  \\\n",
       "0       S005         1     XX   C01      M  2018-07-01 00:00:00   \n",
       "1       S005         1  XXXXX   C02      F  2017-07-01 00:00:00   \n",
       "2       S005         1  XXXXX   C02      F  2017-07-01 00:00:00   \n",
       "3       S005         1   XXXX   C03      M  2018-01-01 00:00:00   \n",
       "4       S005         1   XXXX   C03      M  2018-01-01 00:00:00   \n",
       "...      ...       ...    ...   ...    ...                  ...   \n",
       "6064    S003         1   XXXX   C03      M  2018-10-01 00:00:00   \n",
       "6065    S003         1    XXX   C03      M  2017-02-01 00:00:00   \n",
       "6066    S003         1  XXXXX   C03      M  2015-12-01 00:00:00   \n",
       "6067    S003         2  XXXXX   C02      M  2018-07-11 00:00:00   \n",
       "6068    S003         1    XXX   C01      M  2017-09-01 00:00:00   \n",
       "\n",
       "                 end_date campaign_id  is_deleted item_name  item_price  \\\n",
       "0                     NaN         CA1           0      PC-E      210000   \n",
       "1                     NaN         CA2           0      PC-E      210000   \n",
       "2                     NaN         CA2           0      PC-E      210000   \n",
       "3                     NaN         CA1           0      PC-E      210000   \n",
       "4                     NaN         CA1           0      PC-E      210000   \n",
       "...                   ...         ...         ...       ...         ...   \n",
       "6064                  NaN         CA1           0      PC-C      120000   \n",
       "6065                  NaN         CA1           0      PC-C      120000   \n",
       "6066                  NaN         CA1           0      PC-C      120000   \n",
       "6067  2019-03-31 00:00:00         CA1           1      PC-C      120000   \n",
       "6068                  NaN         CA1           0      PC-C      120000   \n",
       "\n",
       "      total_price  \n",
       "0          210000  \n",
       "1          210000  \n",
       "2          210000  \n",
       "3          210000  \n",
       "4          210000  \n",
       "...           ...  \n",
       "6064       120000  \n",
       "6065       120000  \n",
       "6066       120000  \n",
       "6067       240000  \n",
       "6068       120000  \n",
       "\n",
       "[6069 rows x 17 columns]"
      ]
     },
     "execution_count": 48,
     "metadata": {},
     "output_type": "execute_result"
    }
   ],
   "source": [
    "N_J_3=origin_data.copy()\n",
    "N_J_3"
   ]
  },
  {
   "cell_type": "code",
   "execution_count": 49,
   "metadata": {},
   "outputs": [
    {
     "data": {
      "text/plain": [
       "0       남자\n",
       "1       여자\n",
       "2       여자\n",
       "3       남자\n",
       "4       남자\n",
       "        ..\n",
       "6064    남자\n",
       "6065    남자\n",
       "6066    남자\n",
       "6067    남자\n",
       "6068    남자\n",
       "Name: gender, Length: 6069, dtype: object"
      ]
     },
     "execution_count": 49,
     "metadata": {},
     "output_type": "execute_result"
    }
   ],
   "source": [
    "# apply() 사용하여 남자,여자 변경\n",
    "\n",
    "def change(x):\n",
    "    # x에는 M아니면 F\n",
    "    if x=='F':\n",
    "        result ='여자'\n",
    "    else:\n",
    "        result ='남자'\n",
    "    return result\n",
    "\n",
    "N_J_3['gender'].apply(change)"
   ]
  },
  {
   "cell_type": "code",
   "execution_count": 50,
   "metadata": {},
   "outputs": [
    {
     "data": {
      "text/plain": [
       "0       남자\n",
       "1       여자\n",
       "2       여자\n",
       "3       남자\n",
       "4       남자\n",
       "        ..\n",
       "6064    남자\n",
       "6065    남자\n",
       "6066    남자\n",
       "6067    남자\n",
       "6068    남자\n",
       "Name: gender, Length: 6069, dtype: object"
      ]
     },
     "execution_count": 50,
     "metadata": {},
     "output_type": "execute_result"
    }
   ],
   "source": [
    "N_J_3=origin_data.copy()\n",
    "N_J_3['gender'].apply(lambda x : \"남자\" if(x=='M') else \n",
    "                      (\"여자\" if(x==\"F\") else \"무응답\" )\n",
    "                       )"
   ]
  },
  {
   "cell_type": "code",
   "execution_count": 51,
   "metadata": {},
   "outputs": [],
   "source": [
    "mapping={\"M\":\"남자\",\"F\":\"여자\"}\n",
    "N_J_3.replace(mapping, inplace=True)\n"
   ]
  },
  {
   "cell_type": "code",
   "execution_count": 52,
   "metadata": {},
   "outputs": [
    {
     "data": {
      "text/plain": [
       "0       남자\n",
       "1       여자\n",
       "2       여자\n",
       "3       남자\n",
       "4       남자\n",
       "        ..\n",
       "6064    남자\n",
       "6065    남자\n",
       "6066    남자\n",
       "6067    남자\n",
       "6068    남자\n",
       "Name: gender, Length: 6069, dtype: object"
      ]
     },
     "execution_count": 52,
     "metadata": {},
     "output_type": "execute_result"
    }
   ],
   "source": [
    "N_J_3[\"gender\"]"
   ]
  },
  {
   "cell_type": "code",
   "execution_count": 53,
   "metadata": {},
   "outputs": [
    {
     "name": "stdout",
     "output_type": "stream",
     "text": [
      "<class 'pandas.core.frame.DataFrame'>\n",
      "Int64Index: 6069 entries, 0 to 6068\n",
      "Data columns (total 17 columns):\n",
      " #   Column          Non-Null Count  Dtype         \n",
      "---  ------          --------------  -----         \n",
      " 0   transaction_id  6069 non-null   object        \n",
      " 1   price           6069 non-null   int64         \n",
      " 2   payment_date    6069 non-null   datetime64[ns]\n",
      " 3   customer_id     6069 non-null   object        \n",
      " 4   detail_id       6069 non-null   int64         \n",
      " 5   item_id         6069 non-null   object        \n",
      " 6   quantity        6069 non-null   int64         \n",
      " 7   name            6069 non-null   object        \n",
      " 8   class           6069 non-null   object        \n",
      " 9   gender          6069 non-null   object        \n",
      " 10  start_date      6069 non-null   object        \n",
      " 11  end_date        1978 non-null   object        \n",
      " 12  campaign_id     6069 non-null   object        \n",
      " 13  is_deleted      6069 non-null   int64         \n",
      " 14  item_name       6069 non-null   object        \n",
      " 15  item_price      6069 non-null   int64         \n",
      " 16  total_price     6069 non-null   int64         \n",
      "dtypes: datetime64[ns](1), int64(6), object(10)\n",
      "memory usage: 853.5+ KB\n"
     ]
    }
   ],
   "source": [
    "N_J_3.info()"
   ]
  },
  {
   "cell_type": "code",
   "execution_count": 54,
   "metadata": {},
   "outputs": [],
   "source": [
    "# 시계열 데이터에서 월-년 추출해서 새로운 파생변수 payment_month생성\n",
    "N_J_3[\"payment_month\"]=N_J_3['payment_date'].dt.strftime(\"%m-%Y\")\n",
    "\n"
   ]
  },
  {
   "cell_type": "code",
   "execution_count": 55,
   "metadata": {},
   "outputs": [
    {
     "data": {
      "text/html": [
       "<div>\n",
       "<style scoped>\n",
       "    .dataframe tbody tr th:only-of-type {\n",
       "        vertical-align: middle;\n",
       "    }\n",
       "\n",
       "    .dataframe tbody tr th {\n",
       "        vertical-align: top;\n",
       "    }\n",
       "\n",
       "    .dataframe thead th {\n",
       "        text-align: right;\n",
       "    }\n",
       "</style>\n",
       "<table border=\"1\" class=\"dataframe\">\n",
       "  <thead>\n",
       "    <tr style=\"text-align: right;\">\n",
       "      <th></th>\n",
       "      <th>transaction_id</th>\n",
       "      <th>price</th>\n",
       "      <th>payment_date</th>\n",
       "      <th>customer_id</th>\n",
       "      <th>detail_id</th>\n",
       "      <th>item_id</th>\n",
       "      <th>quantity</th>\n",
       "      <th>name</th>\n",
       "      <th>class</th>\n",
       "      <th>gender</th>\n",
       "      <th>start_date</th>\n",
       "      <th>end_date</th>\n",
       "      <th>campaign_id</th>\n",
       "      <th>is_deleted</th>\n",
       "      <th>item_name</th>\n",
       "      <th>item_price</th>\n",
       "      <th>total_price</th>\n",
       "      <th>payment_month</th>\n",
       "    </tr>\n",
       "  </thead>\n",
       "  <tbody>\n",
       "    <tr>\n",
       "      <th>0</th>\n",
       "      <td>T0000000113</td>\n",
       "      <td>210000</td>\n",
       "      <td>2019-02-01 01:36:57</td>\n",
       "      <td>PL563502</td>\n",
       "      <td>0</td>\n",
       "      <td>S005</td>\n",
       "      <td>1</td>\n",
       "      <td>XX</td>\n",
       "      <td>C01</td>\n",
       "      <td>남자</td>\n",
       "      <td>2018-07-01 00:00:00</td>\n",
       "      <td>NaN</td>\n",
       "      <td>CA1</td>\n",
       "      <td>0</td>\n",
       "      <td>PC-E</td>\n",
       "      <td>210000</td>\n",
       "      <td>210000</td>\n",
       "      <td>02-2019</td>\n",
       "    </tr>\n",
       "  </tbody>\n",
       "</table>\n",
       "</div>"
      ],
      "text/plain": [
       "  transaction_id   price        payment_date customer_id  detail_id item_id  \\\n",
       "0    T0000000113  210000 2019-02-01 01:36:57    PL563502          0    S005   \n",
       "\n",
       "   quantity name class gender           start_date end_date campaign_id  \\\n",
       "0         1   XX   C01     남자  2018-07-01 00:00:00      NaN         CA1   \n",
       "\n",
       "   is_deleted item_name  item_price  total_price payment_month  \n",
       "0           0      PC-E      210000       210000       02-2019  "
      ]
     },
     "execution_count": 55,
     "metadata": {},
     "output_type": "execute_result"
    }
   ],
   "source": [
    "N_J_3.head(1)"
   ]
  },
  {
   "cell_type": "code",
   "execution_count": 56,
   "metadata": {},
   "outputs": [],
   "source": [
    "# 월별 거래량을 확인\n",
    "\n",
    "group_data=N_J_3[['payment_month','total_price']].groupby('payment_month').agg(['mean','sum'])"
   ]
  },
  {
   "cell_type": "code",
   "execution_count": 57,
   "metadata": {},
   "outputs": [
    {
     "data": {
      "text/html": [
       "<div>\n",
       "<style scoped>\n",
       "    .dataframe tbody tr th:only-of-type {\n",
       "        vertical-align: middle;\n",
       "    }\n",
       "\n",
       "    .dataframe tbody tr th {\n",
       "        vertical-align: top;\n",
       "    }\n",
       "\n",
       "    .dataframe thead tr th {\n",
       "        text-align: left;\n",
       "    }\n",
       "\n",
       "    .dataframe thead tr:last-of-type th {\n",
       "        text-align: right;\n",
       "    }\n",
       "</style>\n",
       "<table border=\"1\" class=\"dataframe\">\n",
       "  <thead>\n",
       "    <tr>\n",
       "      <th></th>\n",
       "      <th colspan=\"2\" halign=\"left\">total_price</th>\n",
       "    </tr>\n",
       "    <tr>\n",
       "      <th></th>\n",
       "      <th>mean</th>\n",
       "      <th>sum</th>\n",
       "    </tr>\n",
       "    <tr>\n",
       "      <th>payment_month</th>\n",
       "      <th></th>\n",
       "      <th></th>\n",
       "    </tr>\n",
       "  </thead>\n",
       "  <tbody>\n",
       "    <tr>\n",
       "      <th>02-2019</th>\n",
       "      <td>137592.964824</td>\n",
       "      <td>136905000</td>\n",
       "    </tr>\n",
       "    <tr>\n",
       "      <th>03-2019</th>\n",
       "      <td>135154.382470</td>\n",
       "      <td>135695000</td>\n",
       "    </tr>\n",
       "    <tr>\n",
       "      <th>04-2019</th>\n",
       "      <td>136106.106106</td>\n",
       "      <td>135970000</td>\n",
       "    </tr>\n",
       "    <tr>\n",
       "      <th>05-2019</th>\n",
       "      <td>133551.307847</td>\n",
       "      <td>132750000</td>\n",
       "    </tr>\n",
       "    <tr>\n",
       "      <th>06-2019</th>\n",
       "      <td>135747.800587</td>\n",
       "      <td>138870000</td>\n",
       "    </tr>\n",
       "    <tr>\n",
       "      <th>07-2019</th>\n",
       "      <td>138377.609108</td>\n",
       "      <td>145850000</td>\n",
       "    </tr>\n",
       "  </tbody>\n",
       "</table>\n",
       "</div>"
      ],
      "text/plain": [
       "                 total_price           \n",
       "                        mean        sum\n",
       "payment_month                          \n",
       "02-2019        137592.964824  136905000\n",
       "03-2019        135154.382470  135695000\n",
       "04-2019        136106.106106  135970000\n",
       "05-2019        133551.307847  132750000\n",
       "06-2019        135747.800587  138870000\n",
       "07-2019        138377.609108  145850000"
      ]
     },
     "execution_count": 57,
     "metadata": {},
     "output_type": "execute_result"
    }
   ],
   "source": [
    "group_data"
   ]
  },
  {
   "cell_type": "code",
   "execution_count": 58,
   "metadata": {},
   "outputs": [
    {
     "name": "stdout",
     "output_type": "stream",
     "text": [
      "Requirement already satisfied: matplotlib in c:\\users\\dgh06\\appdata\\local\\programs\\python\\python311\\lib\\site-packages (3.7.1)\n",
      "Requirement already satisfied: contourpy>=1.0.1 in c:\\users\\dgh06\\appdata\\local\\programs\\python\\python311\\lib\\site-packages (from matplotlib) (1.0.7)\n",
      "Requirement already satisfied: cycler>=0.10 in c:\\users\\dgh06\\appdata\\local\\programs\\python\\python311\\lib\\site-packages (from matplotlib) (0.11.0)\n",
      "Requirement already satisfied: fonttools>=4.22.0 in c:\\users\\dgh06\\appdata\\local\\programs\\python\\python311\\lib\\site-packages (from matplotlib) (4.39.3)\n",
      "Requirement already satisfied: kiwisolver>=1.0.1 in c:\\users\\dgh06\\appdata\\local\\programs\\python\\python311\\lib\\site-packages (from matplotlib) (1.4.4)\n",
      "Requirement already satisfied: numpy>=1.20 in c:\\users\\dgh06\\appdata\\local\\programs\\python\\python311\\lib\\site-packages (from matplotlib) (1.24.2)\n",
      "Requirement already satisfied: packaging>=20.0 in c:\\users\\dgh06\\appdata\\roaming\\python\\python311\\site-packages (from matplotlib) (23.0)\n",
      "Requirement already satisfied: pillow>=6.2.0 in c:\\users\\dgh06\\appdata\\local\\programs\\python\\python311\\lib\\site-packages (from matplotlib) (9.5.0)\n",
      "Requirement already satisfied: pyparsing>=2.3.1 in c:\\users\\dgh06\\appdata\\local\\programs\\python\\python311\\lib\\site-packages (from matplotlib) (3.0.9)\n",
      "Requirement already satisfied: python-dateutil>=2.7 in c:\\users\\dgh06\\appdata\\roaming\\python\\python311\\site-packages (from matplotlib) (2.8.2)\n",
      "Requirement already satisfied: six>=1.5 in c:\\users\\dgh06\\appdata\\roaming\\python\\python311\\site-packages (from python-dateutil>=2.7->matplotlib) (1.16.0)\n"
     ]
    },
    {
     "name": "stderr",
     "output_type": "stream",
     "text": [
      "\n",
      "[notice] A new release of pip available: 22.3.1 -> 23.0.1\n",
      "[notice] To update, run: python.exe -m pip install --upgrade pip\n"
     ]
    }
   ],
   "source": [
    "!pip install matplotlib"
   ]
  },
  {
   "cell_type": "code",
   "execution_count": 59,
   "metadata": {},
   "outputs": [
    {
     "data": {
      "text/plain": [
       "<Axes: xlabel='payment_month'>"
      ]
     },
     "execution_count": 59,
     "metadata": {},
     "output_type": "execute_result"
    },
    {
     "data": {
      "image/png": "[encoded data removed]",
      "text/plain": [
       "<Figure size 640x480 with 1 Axes>"
      ]
     },
     "metadata": {},
     "output_type": "display_data"
    }
   ],
   "source": [
    "group_data.plot()"
   ]
  },
  {
   "cell_type": "code",
   "execution_count": 60,
   "metadata": {},
   "outputs": [
    {
     "data": {
      "text/plain": [
       "<Axes: xlabel='payment_month'>"
      ]
     },
     "execution_count": 60,
     "metadata": {},
     "output_type": "execute_result"
    },
    {
     "data": {
      "image/png": "[encoded data removed]",
      "text/plain": [
       "<Figure size 640x480 with 1 Axes>"
      ]
     },
     "metadata": {},
     "output_type": "display_data"
    }
   ],
   "source": [
    "group_data.plot.bar()"
   ]
  },
  {
   "cell_type": "code",
   "execution_count": 61,
   "metadata": {},
   "outputs": [],
   "source": [
    "pivot_data =pd.pivot_table(\n",
    "    N_J_3,\n",
    "    index= 'payment_month',\n",
    "    aggfunc=['sum','mean','min','max','std'],\n",
    "    values= 'total_price'\n",
    "\n",
    "\n",
    ")"
   ]
  },
  {
   "cell_type": "code",
   "execution_count": 62,
   "metadata": {},
   "outputs": [
    {
     "data": {
      "text/plain": [
       "<Axes: xlabel='payment_month'>"
      ]
     },
     "execution_count": 62,
     "metadata": {},
     "output_type": "execute_result"
    },
    {
     "data": {
      "image/png": "[encoded data removed]",
      "text/plain": [
       "<Figure size 640x480 with 1 Axes>"
      ]
     },
     "metadata": {},
     "output_type": "display_data"
    }
   ],
   "source": [
    "pivot_data.plot.bar()"
   ]
  },
  {
   "cell_type": "code",
   "execution_count": null,
   "metadata": {},
   "outputs": [],
   "source": []
  }
 ],
 "metadata": {
  "kernelspec": {
   "display_name": "Python 3",
   "language": "python",
   "name": "python3"
  },
  "language_info": {
   "codemirror_mode": {
    "name": "ipython",
    "version": 3
   },
   "file_extension": ".py",
   "mimetype": "text/x-python",
   "name": "python",
   "nbconvert_exporter": "python",
   "pygments_lexer": "ipython3",
   "version": "3.11.2"
  },
  "orig_nbformat": 4
 },
 "nbformat": 4,
 "nbformat_minor": 2
}
