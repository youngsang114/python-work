{
 "cells": [
  {
   "attachments": {},
   "cell_type": "markdown",
   "metadata": {},
   "source": [
    "# 변수"
   ]
  },
  {
   "cell_type": "code",
   "execution_count": 2,
   "metadata": {},
   "outputs": [
    {
     "name": "stdout",
     "output_type": "stream",
     "text": [
      "10\n",
      "test\n",
      "<class 'int'>\n",
      "<class 'str'>\n"
     ]
    }
   ],
   "source": [
    "# 변수 선언과 동시에 값을 할당\n",
    "a =10\n",
    "b=\"test\"\n",
    "\n",
    "#두 변수를 출력\n",
    "print(a)\n",
    "print(b)\n",
    "\n",
    "#두 변수의 데이터의 형태 출력\n",
    "\n",
    "print(type(a))\n",
    "print(type(b))"
   ]
  },
  {
   "cell_type": "code",
   "execution_count": 2,
   "metadata": {},
   "outputs": [
    {
     "name": "stdout",
     "output_type": "stream",
     "text": [
      "10\n",
      "<class 'str'>\n"
     ]
    }
   ],
   "source": [
    "# 숫자 형태의 데이터에 \"\"로 묶어주면 문자열 데이터로 데이터 대입\n",
    "c=\"10\"\n",
    "\n",
    "print(c)\n",
    "print(type(c))"
   ]
  },
  {
   "attachments": {},
   "cell_type": "markdown",
   "metadata": {},
   "source": [
    "# 연산자"
   ]
  },
  {
   "cell_type": "code",
   "execution_count": 3,
   "metadata": {},
   "outputs": [
    {
     "name": "stdout",
     "output_type": "stream",
     "text": [
      "10 4 21 2.3333333333333335 2 1 343\n"
     ]
    }
   ],
   "source": [
    "# 산술 연산자\n",
    "\n",
    "x=7\n",
    "y=3\n",
    "\n",
    "print(x+y,x-y,x*y,x/y,x//y,x%y,x**y)"
   ]
  },
  {
   "cell_type": "code",
   "execution_count": 4,
   "metadata": {},
   "outputs": [
    {
     "name": "stdout",
     "output_type": "stream",
     "text": [
      "7\n",
      "8\n",
      "5\n",
      "10\n",
      "3.3333333333333335\n",
      "5.333333333333334\n"
     ]
    }
   ],
   "source": [
    "# 대입 연산자\n",
    "\n",
    "#  +=,-+,*=,/=,//=,%=,**=\n",
    "#  산술연산자와의 차이는 기준이 되는 변수의 데이터를 변경한다\n",
    "\n",
    "x=7\n",
    "print(x)\n",
    "x+=1\n",
    "print(x)\n",
    "x-=3\n",
    "print(x)\n",
    "x*=2\n",
    "print(x)\n",
    "x/=3\n",
    "print(x)\n",
    "\n",
    "print(x+2)"
   ]
  },
  {
   "cell_type": "code",
   "execution_count": 1,
   "metadata": {},
   "outputs": [
    {
     "name": "stdout",
     "output_type": "stream",
     "text": [
      "False\n",
      "True\n",
      "True\n",
      "False\n",
      "True\n",
      "False\n"
     ]
    }
   ],
   "source": [
    "# 비교 연산자\n",
    "# 데이터의 비교를 하여 논리값을 출력\n",
    "# 논리값 bool의 형태 (True,False)\n",
    "\n",
    "x=7\n",
    "y=3\n",
    "\n",
    "print(x==y)\n",
    "print(x!=y)\n",
    "print(x>y)\n",
    "print(x<y)\n",
    "print(x>=y)\n",
    "print(x<=y)"
   ]
  },
  {
   "cell_type": "code",
   "execution_count": 2,
   "metadata": {},
   "outputs": [
    {
     "name": "stdout",
     "output_type": "stream",
     "text": [
      "True\n",
      "False\n",
      "False\n"
     ]
    }
   ],
   "source": [
    "# and, or, not\n",
    "# and :두 조건이 모두 참인 경우에 참 나머지의 경우는 모두 거짓\n",
    "print(True and True)\n",
    "print(True and False)\n",
    "print(False and False)"
   ]
  },
  {
   "cell_type": "code",
   "execution_count": 3,
   "metadata": {},
   "outputs": [
    {
     "name": "stdout",
     "output_type": "stream",
     "text": [
      "True\n",
      "True\n",
      "False\n"
     ]
    }
   ],
   "source": [
    "# or :두 조건중 하나만 참이면 참을 출력, 두 조건이 모두 거짓인 경우에만 거짓을 출력\n",
    "print(True or True)\n",
    "print(True or False)\n",
    "print(False or False)"
   ]
  },
  {
   "cell_type": "code",
   "execution_count": 4,
   "metadata": {},
   "outputs": [
    {
     "name": "stdout",
     "output_type": "stream",
     "text": [
      "False\n",
      "True\n"
     ]
    }
   ],
   "source": [
    "# not : True는 False로 False는 True로 출력\n",
    "print(not(True))\n",
    "print(not(False))"
   ]
  },
  {
   "attachments": {},
   "cell_type": "markdown",
   "metadata": {},
   "source": [
    "# 조건문\n"
   ]
  },
  {
   "cell_type": "code",
   "execution_count": 6,
   "metadata": {},
   "outputs": [
    {
     "name": "stdout",
     "output_type": "stream",
     "text": [
      "a는 10보다 작다\n",
      "프로그램 종료\n"
     ]
    }
   ],
   "source": [
    "a=5\n",
    "\n",
    "#a가 10보다 작은 경우에는 첫 번째 print를 실행\n",
    "#a가 10보다 크거나 같은 경우에는 첫 번째 print를 실행하지 않는다\n",
    "\n",
    "if a<10:\n",
    "    print(\"a는 10보다 작다\")\n",
    "\n",
    "print(\"프로그램 종료\")"
   ]
  },
  {
   "cell_type": "code",
   "execution_count": 7,
   "metadata": {},
   "outputs": [
    {
     "name": "stdout",
     "output_type": "stream",
     "text": [
      "a는 10보다 크거나 같다\n",
      "프로그램 종료\n"
     ]
    }
   ],
   "source": [
    "#if ~ else문\n",
    "a=15\n",
    "\n",
    "if a<10:\n",
    "    print(\"a는 10보다 작다\")\n",
    "\n",
    "else:\n",
    "    print(\"a는 10보다 크거나 같다\")\n",
    "\n",
    "print(\"프로그램 종료\")"
   ]
  },
  {
   "cell_type": "code",
   "execution_count": 4,
   "metadata": {},
   "outputs": [
    {
     "name": "stdout",
     "output_type": "stream",
     "text": [
      "A\n",
      "프로그램 종료\n"
     ]
    }
   ],
   "source": [
    "#if ~ elif ~ else문\n",
    "score= int(input(\"점수를 입력하세요:\"))\n",
    "\n",
    "if score>=90:\n",
    "    print('A')\n",
    "elif score>=80:\n",
    "    print('B')\n",
    "elif score>=70:\n",
    "    print('C') \n",
    "else:\n",
    "    print('D')\n",
    "print(\"프로그램 종료\")"
   ]
  },
  {
   "attachments": {},
   "cell_type": "markdown",
   "metadata": {},
   "source": [
    "# 반복문"
   ]
  },
  {
   "cell_type": "code",
   "execution_count": 6,
   "metadata": {},
   "outputs": [
    {
     "name": "stdout",
     "output_type": "stream",
     "text": [
      "[1, 3, 5, 7, 9]\n"
     ]
    }
   ],
   "source": [
    "# range(시작값, 종료값, 증가값)\n",
    "print(list(range(1,11,2)))"
   ]
  },
  {
   "cell_type": "code",
   "execution_count": 8,
   "metadata": {},
   "outputs": [
    {
     "name": "stdout",
     "output_type": "stream",
     "text": [
      "1\n",
      "2\n",
      "3\n",
      "4\n",
      "5\n",
      "6\n",
      "7\n",
      "8\n",
      "9\n",
      "10\n",
      "프로그램 종료\n"
     ]
    }
   ],
   "source": [
    "#for 문\n",
    "for i in range(1,11,1):\n",
    "    print(i)\n",
    "print(\"프로그램 종료\")"
   ]
  },
  {
   "cell_type": "code",
   "execution_count": 10,
   "metadata": {},
   "outputs": [
    {
     "name": "stdout",
     "output_type": "stream",
     "text": [
      "0\n",
      "1\n",
      "2\n",
      "3\n",
      "4\n",
      "5\n",
      "6\n",
      "7\n",
      "8\n",
      "9\n"
     ]
    }
   ],
   "source": [
    "for i in range(10):    # 시작값:0 증가값:1 이 기본값이다.\n",
    "    print(i)"
   ]
  },
  {
   "cell_type": "code",
   "execution_count": 12,
   "metadata": {},
   "outputs": [
    {
     "name": "stdout",
     "output_type": "stream",
     "text": [
      "10\n",
      "8\n",
      "6\n",
      "4\n",
      "2\n"
     ]
    }
   ],
   "source": [
    "for i in range(10,1,-2):  # 증가값을 마이너스로 해서 줄일 수도 있다.\n",
    "    print(i)"
   ]
  },
  {
   "cell_type": "code",
   "execution_count": 16,
   "metadata": {},
   "outputs": [
    {
     "name": "stdout",
     "output_type": "stream",
     "text": [
      "55\n"
     ]
    }
   ],
   "source": [
    "# 1부터 10까지의 합계를 구하시오\n",
    "# 10번 반복\n",
    "\n",
    "s=0\n",
    "for i in range(11):     #range(1,11,1)=range(1,11)=range(11)\n",
    "    s+=i\n",
    "\n",
    "print(s)"
   ]
  },
  {
   "cell_type": "code",
   "execution_count": 23,
   "metadata": {},
   "outputs": [
    {
     "name": "stdout",
     "output_type": "stream",
     "text": [
      "650\n"
     ]
    }
   ],
   "source": [
    "# 1부터 50까지의 합계를 구한다.\n",
    "# 1부터 50까지 짝수의 합만 구한다\n",
    "\n",
    "# case1(for문)\n",
    "# case2(for문, if 문)\n",
    "s=0\n",
    "for i in range(2,51,2):     #range(0,51,2)로 하면 0인 경우 한번 더 실행된다. range(2,51,2)로  실행하자!\n",
    "    s+=i\n",
    "print(s)\n"
   ]
  },
  {
   "cell_type": "code",
   "execution_count": 24,
   "metadata": {},
   "outputs": [
    {
     "name": "stdout",
     "output_type": "stream",
     "text": [
      "650\n"
     ]
    }
   ],
   "source": [
    "s=0\n",
    "for i in range(1,51):\n",
    "    if i%2!=0:\n",
    "        continue\n",
    "    s+=i\n",
    "print(s)\n",
    " \n"
   ]
  },
  {
   "cell_type": "code",
   "execution_count": 30,
   "metadata": {},
   "outputs": [
    {
     "name": "stdout",
     "output_type": "stream",
     "text": [
      "합은 05,i=1,j=4\n",
      "합은 05,i=2,j=3\n",
      "합은 05,i=3,j=2\n",
      "합은 05,i=4,j=1\n",
      "합은 10,i=4,j=6\n",
      "합은 10,i=5,j=5\n",
      "합은 10,i=6,j=4\n"
     ]
    }
   ],
   "source": [
    "# 주사위 2개를 굴려서 두 주사위의 합계가 5의 배수인 경우를 출력하시오\n",
    "# 경우의 수:36번  -> 6번의 경우의 수 * 6번의 경우의 수\n",
    "# 다중 for 문 과 if문\n",
    "\n",
    "num=0\n",
    "for i in range(1,7):\n",
    "    for j in range(1,7):\n",
    "        num=i+j\n",
    "        if num %5==0:\n",
    "            print(\"합은 %02d,i=%d,j=%d\" %(num,i,j))\n",
    "\n"
   ]
  },
  {
   "attachments": {},
   "cell_type": "markdown",
   "metadata": {},
   "source": [
    "### 문제\n",
    "- 페르마의 마지막 정리를 증명하시오\n",
    "    >a<sup>n</sup> + b<sup>n</sup> = c<sup>n</sup>이 수식에서 n의 값이 2보다 큰 자연수이면 a,b,c의 자연수의 값은 존재하지 않는다.\n",
    "    \n",
    "    >n의 값이 3인 경우 a,b,c가 1부터 10까지 이 정리가 사실임을 증명하시오\n",
    "- 다중 for문과 if문을 사용\n",
    "\n"
   ]
  },
  {
   "cell_type": "code",
   "execution_count": 36,
   "metadata": {},
   "outputs": [
    {
     "name": "stdout",
     "output_type": "stream",
     "text": [
      "페르마의 마지막 정리는 사실이다\n"
     ]
    }
   ],
   "source": [
    "for a in range(1,11):\n",
    "    for b in range(1,11):\n",
    "        for c in range(1,11):\n",
    "            #1000번을 반복하는 반복문을 생성\n",
    "            if (a**3 +b**3)==c**3:\n",
    "                print(\"페르마의 마지막 정리는 사실이 아니다\")\n",
    "\n",
    "print(\"페르마의 마지막 정리는 사실이다\")\n",
    "            "
   ]
  },
  {
   "cell_type": "code",
   "execution_count": 44,
   "metadata": {},
   "outputs": [
    {
     "name": "stdout",
     "output_type": "stream",
     "text": [
      "0\n",
      "1\n",
      "2\n",
      "3\n",
      "4\n",
      "5\n",
      "6\n",
      "7\n",
      "8\n",
      "9\n"
     ]
    }
   ],
   "source": [
    "# while 문\n",
    "#초기값 지정\n",
    "i=0\n",
    "\n",
    "while i < 10:\n",
    "    print(i)\n",
    "    i+=1"
   ]
  },
  {
   "cell_type": "code",
   "execution_count": 46,
   "metadata": {},
   "outputs": [
    {
     "name": "stdout",
     "output_type": "stream",
     "text": [
      "55\n"
     ]
    }
   ],
   "source": [
    "#while문을 이용하여 1부터 10까지 합\n",
    "\n",
    "result=0\n",
    "i=1\n",
    "\n",
    "while i<=10:           # 중가값의 위치가 중요 통상 맨 마지막에 증가값을 더한다\n",
    "    result+=i\n",
    "    i+=1\n",
    "print(result)"
   ]
  },
  {
   "cell_type": "code",
   "execution_count": 49,
   "metadata": {},
   "outputs": [
    {
     "name": "stdout",
     "output_type": "stream",
     "text": [
      "3\n",
      "4\n",
      "5\n",
      "6\n",
      "7\n",
      "8\n",
      "9\n",
      "10\n"
     ]
    }
   ],
   "source": [
    "#continue, break\n",
    "#continue 반목문으로 돌아간다.\n",
    "#break 반복문 종료\n",
    "\n",
    "for i in range(1,11,1):\n",
    "    if i<3:\n",
    "        continue\n",
    "    print(i)"
   ]
  },
  {
   "cell_type": "code",
   "execution_count": 68,
   "metadata": {},
   "outputs": [
    {
     "name": "stdout",
     "output_type": "stream",
     "text": [
      "1 0\n",
      "2 1\n",
      "3 3\n",
      "4 6\n",
      "5 10\n",
      "6 15\n",
      "7 21\n",
      "8 28\n",
      "9 36\n",
      "10 45\n",
      "11 55\n",
      "12 66\n",
      "13 78\n",
      "14 91\n",
      "15 105\n",
      "16 120\n",
      "17 136\n",
      "18 153\n",
      "19 171\n",
      "20 190\n",
      "21 210\n",
      "22 231\n",
      "23 253\n",
      "24 276\n",
      "25 300\n",
      "26 325\n",
      "27 351\n",
      "28 378\n",
      "29 406\n",
      "30 435\n",
      "31 465\n",
      "32 496\n",
      "33 528\n",
      "34 561\n",
      "35 595\n",
      "36 630\n",
      "37 666\n",
      "38 703\n",
      "39 741\n",
      "40 780\n",
      "41 820\n",
      "42 861\n",
      "43 903\n",
      "42\n"
     ]
    }
   ],
   "source": [
    "# 문제\n",
    "# 1부터 1000까지 합을 구하는데 합계가 900이 넘어가는 최초의 숫자는 무엇인가?\n",
    "\n",
    "s=0\n",
    "i=0\n",
    "\n",
    "while s<900:\n",
    "    s+=i\n",
    "    i+=1\n",
    "    print(i,s)\n",
    "    \n",
    "print(i-1)"
   ]
  },
  {
   "cell_type": "code",
   "execution_count": 76,
   "metadata": {},
   "outputs": [
    {
     "name": "stdout",
     "output_type": "stream",
     "text": [
      "42 903\n"
     ]
    }
   ],
   "source": [
    "s=0\n",
    "i=0\n",
    "\n",
    "while True:\n",
    "    s+=i\n",
    "    if s>900:\n",
    "        break\n",
    "    i+=1\n",
    "    \n",
    "print(i,s)\n"
   ]
  },
  {
   "cell_type": "code",
   "execution_count": 78,
   "metadata": {},
   "outputs": [
    {
     "name": "stdout",
     "output_type": "stream",
     "text": [
      "42 903\n"
     ]
    }
   ],
   "source": [
    "s=0\n",
    "\n",
    "for i in range(1,1001,1):\n",
    "    s +=i\n",
    "    if s>900:\n",
    "        break\n",
    "    i+=1\n",
    "print(i,s)"
   ]
  },
  {
   "attachments": {},
   "cell_type": "markdown",
   "metadata": {},
   "source": [
    "# 튜플\n",
    "\n",
    "#### 튜플은 수정 불가!"
   ]
  },
  {
   "cell_type": "code",
   "execution_count": 79,
   "metadata": {},
   "outputs": [
    {
     "name": "stdout",
     "output_type": "stream",
     "text": [
      "(4, 'Hello')\n",
      "(3, 3.14)\n",
      "(4, 'Hello', 3, 3.14)\n",
      "(4, 'Hello', 4, 'Hello', 4, 'Hello')\n"
     ]
    }
   ],
   "source": [
    "a=(4,'Hello')\n",
    "b=(3,3.14)\n",
    "c=a+b               # 튜플이 수정된게 아니라 새로운 튜플이 생긴 것.\n",
    "d=a*3\n",
    "\n",
    "print(a)\n",
    "print(b)\n",
    "print(c)\n",
    "print(d)"
   ]
  },
  {
   "cell_type": "code",
   "execution_count": 81,
   "metadata": {},
   "outputs": [
    {
     "name": "stdout",
     "output_type": "stream",
     "text": [
      "4\n"
     ]
    }
   ],
   "source": [
    "# 튜플과 같은 여러개의 원소를 담아내고 있는 변수들은 위치 값으로 각각의 원소를 출력할 수 있다.\n",
    "\n",
    "print(a[0]) #위치는 0부터 시작한다"
   ]
  },
  {
   "cell_type": "code",
   "execution_count": 83,
   "metadata": {},
   "outputs": [
    {
     "name": "stdout",
     "output_type": "stream",
     "text": [
      "H\n"
     ]
    }
   ],
   "source": [
    "print(a[1][0])    # 첫번째 a[1]을 하면 str 형태의 'Hello'가 나오고 이 때 첫번째 문자열 H를 출력하기"
   ]
  },
  {
   "cell_type": "code",
   "execution_count": 87,
   "metadata": {},
   "outputs": [
    {
     "name": "stdout",
     "output_type": "stream",
     "text": [
      "(20, 30, 40)\n",
      "(20, 30, 40, 50)\n",
      "(10, 20, 30)\n"
     ]
    }
   ],
   "source": [
    "a=(10,20,30,40,50)\n",
    "\n",
    "print(a[1:4]) #2번째 원소부터 4번째 원소까지 출력하기\n",
    "print(a[1:]) #2번째부터 끝까지 출력\n",
    "print(a[:3]) #처음부터 3번째 항목까지 출력"
   ]
  },
  {
   "attachments": {},
   "cell_type": "markdown",
   "metadata": {},
   "source": [
    "# 리스트"
   ]
  },
  {
   "cell_type": "code",
   "execution_count": 88,
   "metadata": {},
   "outputs": [
    {
     "name": "stdout",
     "output_type": "stream",
     "text": [
      "[10, 20, 30, 40]\n",
      "[40, 30, 20, 10]\n"
     ]
    }
   ],
   "source": [
    "a=[20,10,40,30]\n",
    "b=[10,20,30,40]\n",
    "\n",
    "#a 리스트의 순서를 오름차순으로 변경\n",
    "a.sort()\n",
    "#b 리스트는 순서를 역순으로 변경\n",
    "b.reverse()\n",
    "\n",
    "print(a)\n",
    "print(b)"
   ]
  },
  {
   "cell_type": "code",
   "execution_count": 89,
   "metadata": {},
   "outputs": [
    {
     "name": "stdout",
     "output_type": "stream",
     "text": [
      "[10, 20, 30]\n",
      "[40, 30, 20, 10, 22]\n"
     ]
    }
   ],
   "source": [
    "# a 리스트에서 마지막 항목 삭제\n",
    "a.pop()\n",
    "# b 리스트에는 22라는 항목을 마지막 항에 추가\n",
    "b.append(22)\n",
    "\n",
    "print(a)\n",
    "print(b)"
   ]
  },
  {
   "cell_type": "code",
   "execution_count": 93,
   "metadata": {},
   "outputs": [
    {
     "name": "stdout",
     "output_type": "stream",
     "text": [
      "[1, 2, 3, 4, 5, 6, 7, 8, 9, 10]\n"
     ]
    }
   ],
   "source": [
    "x=[]   # []=list()\n",
    "\n",
    "for i in range(1,11,1):\n",
    "    x.append(i)\n",
    "\n",
    "print(x)"
   ]
  },
  {
   "cell_type": "code",
   "execution_count": 97,
   "metadata": {},
   "outputs": [
    {
     "name": "stdout",
     "output_type": "stream",
     "text": [
      "4\n",
      "30\n",
      "20\n",
      "80\n",
      "10\n"
     ]
    }
   ],
   "source": [
    "y=[30,20,80,10]\n",
    "print(len(y))\n",
    "\n",
    "for i in y:\n",
    "    print(i)\n"
   ]
  },
  {
   "cell_type": "code",
   "execution_count": 98,
   "metadata": {},
   "outputs": [
    {
     "name": "stdout",
     "output_type": "stream",
     "text": [
      "30\n",
      "20\n",
      "80\n",
      "10\n"
     ]
    }
   ],
   "source": [
    "for i in range(0,len(y),1):\n",
    "    print(y[i])\n"
   ]
  },
  {
   "attachments": {},
   "cell_type": "markdown",
   "metadata": {},
   "source": [
    "- 1부터 70까지 숫자들 중에 3의 배수를 리스트의 형태로 만들어서 출력\n",
    "\n",
    "    1.비어있는 리스트를 하나 생성\n",
    "\n",
    "    2.1부터 70까지 반복을 하는 반복문 생성\n",
    "\n",
    "    3.1부터 70까지의 항목들을 비어있는 리스트 추가\n",
    "    \n",
    "    4.3의 배수인 값들만 리스트 추가\n"
   ]
  },
  {
   "cell_type": "markdown",
   "metadata": {},
   "source": []
  },
  {
   "cell_type": "code",
   "execution_count": 101,
   "metadata": {},
   "outputs": [
    {
     "name": "stdout",
     "output_type": "stream",
     "text": [
      "[3, 6, 9, 12, 15, 18, 21, 24, 27, 30, 33, 36, 39, 42, 45, 48, 51, 54, 57, 60, 63, 66, 69]\n"
     ]
    }
   ],
   "source": [
    "list_1=[]\n",
    "\n",
    "for i in range(1,71,1):\n",
    "    if i%3==0:\n",
    "        list_1.append(i)\n",
    "print(list_1)"
   ]
  },
  {
   "cell_type": "code",
   "execution_count": 104,
   "metadata": {},
   "outputs": [
    {
     "name": "stdout",
     "output_type": "stream",
     "text": [
      "[3, 6, 9, 12, 15, 18, 21, 24, 27, 30, 33, 36, 39, 42, 45, 48, 51, 54, 57, 60, 63, 66, 69]\n"
     ]
    }
   ],
   "source": [
    "list_1=[]\n",
    "i=1             #while문에서는 초기값 설정이 필요하다. 이때 초기값을 1혹은 0 에 따라서, 몇번 반복하는지 구하는 문제일때 중요함.\n",
    "\n",
    "while i<71:\n",
    "    if i%3==0:\n",
    "        list_1.append(i)\n",
    "    i+=1\n",
    "print(list_1)"
   ]
  },
  {
   "attachments": {},
   "cell_type": "markdown",
   "metadata": {},
   "source": [
    "# 딕셔너리"
   ]
  },
  {
   "cell_type": "code",
   "execution_count": 106,
   "metadata": {},
   "outputs": [
    {
     "name": "stdout",
     "output_type": "stream",
     "text": [
      "{'name': 'test', 'age': 20, 'phone': '01012345678'}\n"
     ]
    }
   ],
   "source": [
    "# 사전형 데이터\n",
    "# {key1 : value1, key2 : value2,.....}\n",
    "\n",
    "dict={'name' : 'test', 'age' : 20,'phone':'01012345678' }\n",
    "\n",
    "print(dict)"
   ]
  },
  {
   "cell_type": "code",
   "execution_count": 107,
   "metadata": {},
   "outputs": [
    {
     "name": "stdout",
     "output_type": "stream",
     "text": [
      "test\n"
     ]
    }
   ],
   "source": [
    "# test 단어를 출력하려면?\n",
    "print(dict['name'])"
   ]
  },
  {
   "cell_type": "code",
   "execution_count": 109,
   "metadata": {},
   "outputs": [],
   "source": [
    "# print(dict[0])\n",
    "# 딕셔너리의 key 이름중 0이 없다 \n",
    "# 딕셔너리는 list처럼 출력 불가능"
   ]
  },
  {
   "cell_type": "code",
   "execution_count": 111,
   "metadata": {},
   "outputs": [
    {
     "name": "stdout",
     "output_type": "stream",
     "text": [
      "{'name': 'test', 'age': 20, 'phone': '01012345678', 'area': 'seoul'}\n"
     ]
    }
   ],
   "source": [
    "# 새로운 키: 벨류를 추가\n",
    "# 새로운 키 값은 입력\n",
    "dict['area']='seoul'\n",
    "\n",
    "print(dict)"
   ]
  },
  {
   "cell_type": "code",
   "execution_count": 113,
   "metadata": {},
   "outputs": [
    {
     "name": "stdout",
     "output_type": "stream",
     "text": [
      "{'name': 'test', 'age': 30, 'phone': '01012345678', 'area': 'seoul'}\n"
     ]
    }
   ],
   "source": [
    "# 기존의 키 값에 있는 벨류를 수정\n",
    "dict['age']=30                \n",
    "\n",
    "print(dict)"
   ]
  },
  {
   "cell_type": "code",
   "execution_count": 115,
   "metadata": {},
   "outputs": [
    {
     "name": "stdout",
     "output_type": "stream",
     "text": [
      "{'name': 'test', 'age': 30, 'area': 'seoul'}\n"
     ]
    }
   ],
   "source": [
    "#키 값을 삭제\n",
    "\n",
    "del(dict['phone'])\n",
    "\n",
    "print(dict)"
   ]
  },
  {
   "cell_type": "code",
   "execution_count": 116,
   "metadata": {},
   "outputs": [],
   "source": [
    "# DB와 python을 연동하여 데이터를 받으면\n",
    "# 데이터의 형태 [{},{}]로 데이터가 들어온다\n",
    "\n",
    "test_data=[\n",
    "    {\n",
    "        \"name\":'test',\n",
    "        'age' : 20\n",
    "\n",
    "    },\n",
    "    {\n",
    "        \"name\" :'test2',\n",
    "        \"age\" : 30\n",
    "    },\n",
    "    {\n",
    "        'name' : 'test3',\n",
    "        'age' : 25\n",
    "        \n",
    "    }\n",
    "]"
   ]
  },
  {
   "cell_type": "code",
   "execution_count": 117,
   "metadata": {},
   "outputs": [
    {
     "name": "stdout",
     "output_type": "stream",
     "text": [
      "3\n"
     ]
    }
   ],
   "source": [
    "print(len(test_data))"
   ]
  },
  {
   "cell_type": "code",
   "execution_count": 120,
   "metadata": {},
   "outputs": [
    {
     "name": "stdout",
     "output_type": "stream",
     "text": [
      "{'name': 'test2', 'age': 30}\n",
      "test2\n"
     ]
    }
   ],
   "source": [
    "#test data에서 \"test2를 출력하기\"\n",
    "\n",
    "print(test_data[1])\n",
    "print(test_data[1][\"name\"])"
   ]
  },
  {
   "attachments": {},
   "cell_type": "markdown",
   "metadata": {},
   "source": [
    "- test_data에서 연령대가 20대인 사람의 이름을 리스트로 출력하시오"
   ]
  },
  {
   "cell_type": "code",
   "execution_count": 126,
   "metadata": {},
   "outputs": [
    {
     "name": "stdout",
     "output_type": "stream",
     "text": [
      "['test', 'test3']\n"
     ]
    }
   ],
   "source": [
    "list_2=[]\n",
    "for i in range(0,len(test_data),1):\n",
    "    if 20<=test_data[i][\"age\"]<30:    # test_data[i][\"age\"] >=20 and test_data[i][\"age\"]<30:    and로 표현\n",
    "        list_2.append(test_data[i][\"name\"])\n",
    "print(list_2)"
   ]
  },
  {
   "cell_type": "code",
   "execution_count": 135,
   "metadata": {},
   "outputs": [
    {
     "name": "stdout",
     "output_type": "stream",
     "text": [
      "['test', 'test3']\n"
     ]
    }
   ],
   "source": [
    "list_2=[]\n",
    "\n",
    "for i in test_data:\n",
    "    if 20<=i[\"age\"]<30:\n",
    "        #print(i['name'])\n",
    "        list_2.append(i['name'])\n",
    "\n",
    "print(list_2)"
   ]
  },
  {
   "cell_type": "code",
   "execution_count": null,
   "metadata": {},
   "outputs": [],
   "source": []
  }
 ],
 "metadata": {
  "kernelspec": {
   "display_name": "Python 3",
   "language": "python",
   "name": "python3"
  },
  "language_info": {
   "codemirror_mode": {
    "name": "ipython",
    "version": 3
   },
   "file_extension": ".py",
   "mimetype": "text/x-python",
   "name": "python",
   "nbconvert_exporter": "python",
   "pygments_lexer": "ipython3",
   "version": "3.11.2"
  },
  "orig_nbformat": 4
 },
 "nbformat": 4,
 "nbformat_minor": 2
}
