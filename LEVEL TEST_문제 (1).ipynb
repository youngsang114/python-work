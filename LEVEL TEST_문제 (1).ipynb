{
 "cells": [
  {
   "cell_type": "code",
   "execution_count": 90,
   "metadata": {},
   "outputs": [],
   "source": [
    "import pandas as pd\n",
    "from datetime import datetime\n",
    "import platform\n",
    "import matplotlib.pyplot as plt"
   ]
  },
  {
   "cell_type": "markdown",
   "metadata": {},
   "source": [
    "### 1번 문제\n",
    "> For문을 이용하여 구구단을 출력하라\n",
    "    2단부터 9단까지 구구단을 print를 이용하여 출력하라."
   ]
  },
  {
   "cell_type": "code",
   "execution_count": 102,
   "metadata": {},
   "outputs": [
    {
     "name": "stdout",
     "output_type": "stream",
     "text": [
      "\n",
      "\n",
      "02 * 01 = 02\n",
      "02 * 02 = 04\n",
      "02 * 03 = 06\n",
      "02 * 04 = 08\n",
      "02 * 05 = 10\n",
      "02 * 06 = 12\n",
      "02 * 07 = 14\n",
      "02 * 08 = 16\n",
      "02 * 09 = 18\n",
      "\n",
      "\n",
      "03 * 01 = 03\n",
      "03 * 02 = 06\n",
      "03 * 03 = 09\n",
      "03 * 04 = 12\n",
      "03 * 05 = 15\n",
      "03 * 06 = 18\n",
      "03 * 07 = 21\n",
      "03 * 08 = 24\n",
      "03 * 09 = 27\n",
      "\n",
      "\n",
      "04 * 01 = 04\n",
      "04 * 02 = 08\n",
      "04 * 03 = 12\n",
      "04 * 04 = 16\n",
      "04 * 05 = 20\n",
      "04 * 06 = 24\n",
      "04 * 07 = 28\n",
      "04 * 08 = 32\n",
      "04 * 09 = 36\n",
      "\n",
      "\n",
      "05 * 01 = 05\n",
      "05 * 02 = 10\n",
      "05 * 03 = 15\n",
      "05 * 04 = 20\n",
      "05 * 05 = 25\n",
      "05 * 06 = 30\n",
      "05 * 07 = 35\n",
      "05 * 08 = 40\n",
      "05 * 09 = 45\n",
      "\n",
      "\n",
      "06 * 01 = 06\n",
      "06 * 02 = 12\n",
      "06 * 03 = 18\n",
      "06 * 04 = 24\n",
      "06 * 05 = 30\n",
      "06 * 06 = 36\n",
      "06 * 07 = 42\n",
      "06 * 08 = 48\n",
      "06 * 09 = 54\n",
      "\n",
      "\n",
      "07 * 01 = 07\n",
      "07 * 02 = 14\n",
      "07 * 03 = 21\n",
      "07 * 04 = 28\n",
      "07 * 05 = 35\n",
      "07 * 06 = 42\n",
      "07 * 07 = 49\n",
      "07 * 08 = 56\n",
      "07 * 09 = 63\n",
      "\n",
      "\n",
      "08 * 01 = 08\n",
      "08 * 02 = 16\n",
      "08 * 03 = 24\n",
      "08 * 04 = 32\n",
      "08 * 05 = 40\n",
      "08 * 06 = 48\n",
      "08 * 07 = 56\n",
      "08 * 08 = 64\n",
      "08 * 09 = 72\n",
      "\n",
      "\n",
      "09 * 01 = 09\n",
      "09 * 02 = 18\n",
      "09 * 03 = 27\n",
      "09 * 04 = 36\n",
      "09 * 05 = 45\n",
      "09 * 06 = 54\n",
      "09 * 07 = 63\n",
      "09 * 08 = 72\n",
      "09 * 09 = 81\n"
     ]
    }
   ],
   "source": [
    "for i in range(2,10):\n",
    "    print(\"\\n\")\n",
    "    for j in range(1,10):\n",
    "        print(\"%02d * %02d = %02d\" %(i,j,i*j))"
   ]
  },
  {
   "attachments": {},
   "cell_type": "markdown",
   "metadata": {},
   "source": [
    "### 2번 문제\n",
    "> 2부터 50까지 소수를 리스트의 형태로 출력하시오\n",
    "1. 첫번째 반복문에서는 2부터 50까지 반복을 하는 반복문을 구성하시오\n",
    "2. 소수는 1과 자기 자신 외에는 나누어지지 않는 수이다 \n",
    "3. 반복문 안에 bool의 형태의 데이터를 만들어서 True라 지정한다. \n",
    "4. 두번째 반복문을 이용하여 2부터 시작하여 (자기 자신 -1)까지 나누어 나머지 값이 0이면 3번 과정에서 만든 변수를 False로 변경한다.\n",
    "5. bool 형태의 변수를 조건문을 사용하여 True인 경우 리스트에 추가한다."
   ]
  },
  {
   "cell_type": "code",
   "execution_count": 101,
   "metadata": {},
   "outputs": [
    {
     "name": "stdout",
     "output_type": "stream",
     "text": [
      "[2, 3, 5, 7, 11, 13, 17, 19, 23, 29, 31, 37, 41, 43, 47]\n"
     ]
    }
   ],
   "source": [
    "_list=[]\n",
    "for i in range(2,51):\n",
    "    num=True\n",
    "    for j in range(2,i):\n",
    "        if i%j==0:\n",
    "            num=False\n",
    "            break\n",
    "    if num==True:\n",
    "        _list.append(i)\n",
    "print(_list)\n",
    "    "
   ]
  },
  {
   "cell_type": "markdown",
   "metadata": {},
   "source": [
    "### 3번 문제\n",
    "> Pandas를 이용하여 다음과 같은 데이터프레임을 만들고 데이터프레임을 수정하라.\n",
    "\n",
    "|   | 0 | 1 |  2 |\n",
    "|:-:|:-:|:-:|:--:|\n",
    "| 0 | 1 | 2 |  3 |\n",
    "| 1 | 7 | 8 |  9 |\n",
    "| 2 | 4 | 5 |  6 |\n",
    "| 3 | 3 | 5 | 10 |\n",
    "\n",
    "1. 컬럼의 이름을 A, B, C로 변경\n",
    "2. D라는 새로운 컬럼에 shift 함수를 이용하여 C 컬럼의 차를 D 컬럼에 생성(NaN값인 경우에는 0으로 대체)\n",
    "3. A 컬럼을 기준으로 오름차순 정렬\n",
    "4. 인덱스의 값을 새로 지정(기존의 인덱스는 삭제)\n",
    "5. 이 모든 과정은 원본의 데이터를 수정 "
   ]
  },
  {
   "cell_type": "code",
   "execution_count": 100,
   "metadata": {},
   "outputs": [
    {
     "data": {
      "text/html": [
       "<div>\n",
       "<style scoped>\n",
       "    .dataframe tbody tr th:only-of-type {\n",
       "        vertical-align: middle;\n",
       "    }\n",
       "\n",
       "    .dataframe tbody tr th {\n",
       "        vertical-align: top;\n",
       "    }\n",
       "\n",
       "    .dataframe thead th {\n",
       "        text-align: right;\n",
       "    }\n",
       "</style>\n",
       "<table border=\"1\" class=\"dataframe\">\n",
       "  <thead>\n",
       "    <tr style=\"text-align: right;\">\n",
       "      <th></th>\n",
       "      <th>A</th>\n",
       "      <th>B</th>\n",
       "      <th>C</th>\n",
       "      <th>D</th>\n",
       "    </tr>\n",
       "  </thead>\n",
       "  <tbody>\n",
       "    <tr>\n",
       "      <th>0</th>\n",
       "      <td>1</td>\n",
       "      <td>2</td>\n",
       "      <td>3</td>\n",
       "      <td>0.0</td>\n",
       "    </tr>\n",
       "    <tr>\n",
       "      <th>1</th>\n",
       "      <td>3</td>\n",
       "      <td>5</td>\n",
       "      <td>10</td>\n",
       "      <td>-4.0</td>\n",
       "    </tr>\n",
       "    <tr>\n",
       "      <th>2</th>\n",
       "      <td>4</td>\n",
       "      <td>5</td>\n",
       "      <td>6</td>\n",
       "      <td>3.0</td>\n",
       "    </tr>\n",
       "    <tr>\n",
       "      <th>3</th>\n",
       "      <td>7</td>\n",
       "      <td>8</td>\n",
       "      <td>9</td>\n",
       "      <td>-6.0</td>\n",
       "    </tr>\n",
       "  </tbody>\n",
       "</table>\n",
       "</div>"
      ],
      "text/plain": [
       "   A  B   C    D\n",
       "0  1  2   3  0.0\n",
       "1  3  5  10 -4.0\n",
       "2  4  5   6  3.0\n",
       "3  7  8   9 -6.0"
      ]
     },
     "execution_count": 100,
     "metadata": {},
     "output_type": "execute_result"
    }
   ],
   "source": [
    "data={0:[1,7,4,3],1:[2,8,5,5],2:[3,9,6,10]}\n",
    "df=pd.DataFrame(data)\n",
    "\n",
    "df.columns=['A',\"B\",'C']\n",
    "df['D']= (df['C'].shift(1)-df['C']).fillna(0)\n",
    "\n",
    "df.sort_values(\"A\",inplace=True)\n",
    "\n",
    "df.reset_index(drop=True,inplace=True)\n",
    "df\n",
    "\n",
    "\n"
   ]
  },
  {
   "attachments": {},
   "cell_type": "markdown",
   "metadata": {},
   "source": [
    "### 4번 문제\n",
    "> 2014,2015,2016 csv파일을 로드하여 데이터를 수정하라.\n",
    "\n",
    "1. 3개의 데이터프레임을 결합하시오 (유니언 결합)\n",
    "2. 구분 컬럼의 값을 datetime의 형태로 변환하라. \n",
    "3. 구분 컬럼에서 년도만 따로 출력하여 파생변수 년도를 생성하라.\n",
    "4. 년도 별 평균 사망자, 총 사망자를 출력하라. \n",
    "5. 년도 별 사고 대비 사망율( 사망(명) / 사고(건))을 출력하라."
   ]
  },
  {
   "cell_type": "code",
   "execution_count": 99,
   "metadata": {},
   "outputs": [
    {
     "name": "stdout",
     "output_type": "stream",
     "text": [
      "*년도 별 평균 사망자,총 사망자*\n",
      "           mean  sum\n",
      "년도                  \n",
      "2014  10.833333  130\n",
      "2015   9.000000  108\n",
      "2016   8.166667   98\n",
      "\n",
      "\n",
      "*년도 별 사고 대비 사망율(사망(명)/사고(건))*\n",
      "년도\n",
      "2014    0.053586\n",
      "2015    0.039985\n",
      "2016    0.040279\n",
      "Name: sum, dtype: float64\n"
     ]
    },
    {
     "name": "stderr",
     "output_type": "stream",
     "text": [
      "C:\\Users\\dgh06\\AppData\\Local\\Temp\\ipykernel_16332\\364726514.py:12: FutureWarning: ['구분'] did not aggregate successfully. If any error is raised this will raise in a future version of pandas. Drop these columns/ops to avoid this warning.\n",
      "  df2=df.groupby(\"년도\").agg(['mean','sum'])                            #평균 합을 년도로 그룹화\n"
     ]
    }
   ],
   "source": [
    "## 기존에 csv파일이 있어서 csv(lever_test1)으로 수정했습니다, level_test문제 위치는 날짜 폴더들과 같은 위치에 있습니다\n",
    "_2014=pd.read_csv(\"csv(level_test1)/2014.csv\",encoding='euc-kr')\n",
    "_2015=pd.read_csv(\"csv(level_test1)/2015.csv\",encoding='euc-kr')\n",
    "_2016=pd.read_csv(\"csv(level_test1)/2016.csv\",encoding='euc-kr')     #파일불러오기\n",
    "\n",
    "df=pd.concat([_2014,_2015,_2016],axis=0)                             #데이터프레임 유니온 결합,행을 따라 붙인고 df에 저장\n",
    "\n",
    "df[\"구분\"]=pd.to_datetime(df[\"구분\"],format=\"%Y년%d월\")               #구분을 시계열 데이터로 변환\n",
    "\n",
    "df['년도']=df[\"구분\"].dt.strftime(\"%Y\")                               #년도라는 파생변수는 구분에서 년도부분만 문자열로 전환해서 저장\n",
    "\n",
    "df2=df.groupby(\"년도\").agg(['mean','sum'])                            #평균 합을 년도로 그룹화\n",
    "\n",
    "print(\"*년도 별 평균 사망자,총 사망자*\")\n",
    "print(df2[\"사망(명)\"])\n",
    "print(\"\\n\")\n",
    "print(\"*년도 별 사고 대비 사망율(사망(명)/사고(건))*\")\n",
    "print(df2[\"사망(명)\"]['sum']/df2['사고(건)']['sum'])"
   ]
  },
  {
   "attachments": {},
   "cell_type": "markdown",
   "metadata": {},
   "source": [
    "### 5번 문제\n",
    "> 세종시.csv 파일을 pandas를 이용하여 read 후 데이터프레임을 수정하라.\n",
    "\n",
    "1. pandas를 이용하여 csv 파일을 로드한다. (주소는 상대경로로 지정)\n",
    "2. \"법정동코드\", \"특수지구분코드\", \"특수지구분명\", \"공동주택코드\", \"특수지명\" 컬럼을 삭제한다. \n",
    "3. \"기준연월\" 파생변수를 생성하여 \"기준연도\" + \"기준월\" 데이터를 삽입한다. \n",
    "4. pivot_table을 이용하여 인덱스는 \"기준연월\" 컬럼은 \"공동주택구분명\" 벨류는 \"공시가격\"으로 평균값을 구하고 결측치의 값은 0으로 한 뒤 바형 그래프로 출력한다. \n",
    "5. 한글이 포함되어 있음으로 한글을 표시가 될수 있도록 폰트를 변경하여 시각화를 한다."
   ]
  },
  {
   "cell_type": "code",
   "execution_count": 97,
   "metadata": {},
   "outputs": [
    {
     "name": "stderr",
     "output_type": "stream",
     "text": [
      "C:\\Users\\dgh06\\AppData\\Local\\Temp\\ipykernel_16332\\2928274610.py:5: DtypeWarning: Columns (5,11,13,15) have mixed types. Specify dtype option on import or set low_memory=False.\n",
      "  df=pd.read_csv(\"csv(level_test1)/세종시.csv\",encoding=\"euc-kr\")\n"
     ]
    },
    {
     "data": {
      "image/png": "[encoded data removed]",
      "text/plain": [
       "<Figure size 640x480 with 1 Axes>"
      ]
     },
     "metadata": {},
     "output_type": "display_data"
    }
   ],
   "source": [
    "if platform.system() == \"Darwin\":          # MAC인 경우\n",
    "    plt.rc('font', family =\"AppleGothic\")\n",
    "else:\n",
    "    plt.rc('font',family='Malgun Gothic')\n",
    "df=pd.read_csv(\"csv(level_test1)/세종시.csv\",encoding=\"euc-kr\")\n",
    "df.drop([\"법정동코드\", \"특수지구분코드\", \"특수지구분명\", \"공동주택코드\", \"특수지명\"],axis=1,inplace=True)  #삭제\n",
    "\n",
    "df[\"기준연도\"]=df[\"기준연도\"].astype(str)          #int타입이라서 str으로 바꾸고 더하기!\n",
    "df[\"기준월\"]=df[\"기준월\"].astype(str)\n",
    "df[\"기준연월\"]=df[\"기준연도\"]+'-'+df[\"기준월\"]\n",
    "\n",
    "pd.pivot_table(df,                               #피벗 테이블 화\n",
    "    index=\"기준연월\",\n",
    "    columns=\"공동주택구분명\",\n",
    "    values='공시가격',\n",
    "    aggfunc='mean'\n",
    "\n",
    ").fillna(0).plot.bar()                          #결측치 0으로 대체\n",
    "plt.show()                                      #show()  \n"
   ]
  },
  {
   "cell_type": "code",
   "execution_count": null,
   "metadata": {},
   "outputs": [],
   "source": []
  }
 ],
 "metadata": {
  "kernelspec": {
   "display_name": "Python 3.10.4 64-bit",
   "language": "python",
   "name": "python3"
  },
  "language_info": {
   "codemirror_mode": {
    "name": "ipython",
    "version": 3
   },
   "file_extension": ".py",
   "mimetype": "text/x-python",
   "name": "python",
   "nbconvert_exporter": "python",
   "pygments_lexer": "ipython3",
   "version": "3.11.2"
  },
  "orig_nbformat": 4,
  "vscode": {
   "interpreter": {
    "hash": "eccee16ee1f2ca6b29c61e3c4642a90ff58e47b250cd293abf19e9e3b8422bd1"
   }
  }
 },
 "nbformat": 4,
 "nbformat_minor": 2
}
