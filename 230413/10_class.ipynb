{
 "cells": [
  {
   "attachments": {},
   "cell_type": "markdown",
   "metadata": {},
   "source": [
    "# Class 생성\n",
    "1. class 이름은 user\n",
    "2. 생성자 함수 (__init__)에서 유저의 이름, 휴대폰 번호, 생년월일 매개변수를 이용하여 self변수 만들어서 저장\n",
    "3. info() 함수를 생성하여 유저의 정보를 출력하는 함수 생성\n"
   ]
  },
  {
   "cell_type": "code",
   "execution_count": 17,
   "metadata": {},
   "outputs": [],
   "source": [
    "# class 선언\n",
    "class User:\n",
    "    # 생성자 함수 생성 :self를 제외한 매개 변수 3개\n",
    "    def __init__(self,_name,_phone,_birth):\n",
    "        self.name=_name\n",
    "        self.phone=_phone\n",
    "        self.birth=_birth\n",
    "\n",
    "    def info(self):\n",
    "        return(self.name,self.phone,self.birth)\n",
    "        "
   ]
  },
  {
   "cell_type": "code",
   "execution_count": 23,
   "metadata": {},
   "outputs": [
    {
     "data": {
      "text/plain": [
       "('yys', '01012345678', '0114')"
      ]
     },
     "execution_count": 23,
     "metadata": {},
     "output_type": "execute_result"
    }
   ],
   "source": [
    "# class 생성\n",
    "test=User('yys','01012345678','0114')\n",
    "\n",
    "#test.name= 'yys'\n",
    "#test.phone='01012345678'\n",
    "#test.birth=0114'\n",
    "test.info()"
   ]
  },
  {
   "attachments": {},
   "cell_type": "markdown",
   "metadata": {},
   "source": [
    "# 지갑 클래스 선언\n",
    "1. 클래스의 이름은 wallet\n",
    "2. 생성자 함수에는 소유자의 이름, 지갑의 브랜드, 지갑의 가치, 잔액\n",
    "3. 잔액의 기본값은 0\n",
    "4. work() 함수를 생성 : 매개변수에 일의 종류, 일의 종류가 'TM'이면 지갑의 잔액은 500 증가, 'alba'이면 지갑의 잔약을 300증가, 'serving'이면 지갑의 잔액을 400증가\n",
    "5. waller_info()함수를 생성: 지갑의 정보(서유자의 이름, 지갑의 브랜드,지갑의 가치,잔액)를 출력 "
   ]
  },
  {
   "cell_type": "code",
   "execution_count": 162,
   "metadata": {},
   "outputs": [],
   "source": [
    "class Wallet(User):\n",
    "    #### 클래스의 상속!!!\n",
    "    #### class Wallet(부모 클래스)\n",
    "    #### 2개의 생성 함수 Wallet안에 user의 매개 변수값을 넣어준다\n",
    "    #### super().__init(부모 클래스의 매개변수들)--->넣어주고 실행\n",
    "\n",
    "    # 클래스 변수 생성\n",
    "    \n",
    "    work_type={\n",
    "        'TM': 500,\n",
    "        'alba':300,\n",
    "        'serving':400\n",
    "    }\n",
    "    item_type={\n",
    "        'cash': 200,\n",
    "        'food':300,\n",
    "        'clothes':500\n",
    "    }\n",
    "        \n",
    "    # 생성자 함수\n",
    "    def __init__(self,_name,_phone,_birth,_brand,_value,_balance=0):\n",
    "        # 부모 클래스의 __init__함수 실행\n",
    "        # user가 부모 클래스\n",
    "        super().__init__(_name,_phone,_birth)\n",
    "      \n",
    "        self.brand=_brand\n",
    "        self.value=_value\n",
    "        self.balance=int(_balance)\n",
    "\n",
    "    # work() 함수를 생성\n",
    "    def work(self,_type):\n",
    "        #일의 조건에 따라 잔액이 다르게 변동\n",
    "        # if _type =='TM':\n",
    "        #     self.balance +=500\n",
    "        # elif _type =='alba':\n",
    "        #     self.balance +=300\n",
    "        # elif _type =='serving':\n",
    "        #     self.balance +=400\n",
    "        # else:\n",
    "        #     return \"일의 타입이 맞지 않습니다\"\n",
    "        # return f\"{_type}의 일을 완료하였습니다. 현재의 잔액은 {self.balance}입니다.\"\n",
    "        if _type in self.work_type.keys():\n",
    "            self.balance += self.work_type[_type]\n",
    "        else:\n",
    "            return \"일의 타입이 맞지 않습니다\"\n",
    "        return f\"{_type}의 일을 완료하였습니다. 현재의 잔액은 {self.balance}입니다.\"\n",
    "\n",
    "    \n",
    "    # 구매하는 함수 생성\n",
    "    def buy(self,_item):\n",
    "        # if _item == 'cash':\n",
    "        #     self.cost=200\n",
    "\n",
    "        # elif _item == 'food':\n",
    "        #     self.cost=300\n",
    "            \n",
    "        # elif _item == 'clothes':\n",
    "        #     self.cost=500\n",
    "        # else:\n",
    "        #     return \"item의 타입이 맞지 않습니다\"\n",
    "        if _item in self.item_type.keys():\n",
    "            if self.balance >= self.item_type[_item]:\n",
    "                self.balance -=self.item_type[_item]\n",
    "            else:\n",
    "                return \"지갑의 잔액이 부족합니다\"\n",
    "        else:\n",
    "            return \"item의 타입이 맞지 않습니다\"\n",
    "    \n",
    "        return f\"{_item}을(를) 구매하였습니다. 현재 잔액은 {self.balance}입니다\"\n",
    "    \n",
    "    # 일과 구매의 목록을 추가하는 함수 생성\n",
    "    def add_type(self, _choose, _key, _value):\n",
    "        # _choose: 일이냐 구매냐\n",
    "        # _key: dict의 키 값\n",
    "        # _value:dict의 value값\n",
    "        if _choose =='work':\n",
    "            if _key not in self.work_type.keys():\n",
    "                self.work_type[_key]=_value\n",
    "            else:\n",
    "                return \"일 목록이 존재합니다\"\n",
    "        elif _choose =='buy':\n",
    "            if _key not in self.item_type.keys():\n",
    "                self.item_type[_key]=_value\n",
    "            else:\n",
    "                return \"구매 목록이 존재합니다\"\n",
    "        else:\n",
    "            return \"choose값이 잘못 되었습니다\"\n",
    "        \n",
    "        return f\"{_choose}의 목록이 추가되었습니다\"\n",
    "    \n",
    "        \n",
    "    \n",
    "    \n",
    "    # 지갑의 정보를 출력하는 함수 생성\n",
    "    def info(self):\n",
    "        return(self.brand,self.value,self.balance)\n",
    "    \n",
    "    # 오버라이딩: 부모에 있는 class 기능을 상실하지 않고, 자식에 있는 class를 실행하는 것\n",
    "    # 부모의 Class의 함수명과, 자식의 Class의 함수명이 같을때--> 상속시 오버라이딩이 된다\n",
    "\n",
    "\n",
    "        "
   ]
  },
  {
   "cell_type": "code",
   "execution_count": 158,
   "metadata": {},
   "outputs": [],
   "source": [
    "test=Wallet('yys','01012345678','000114','Gucci','500')"
   ]
  },
  {
   "cell_type": "code",
   "execution_count": 159,
   "metadata": {},
   "outputs": [
    {
     "data": {
      "text/plain": [
       "('Gucci', '500', 0)"
      ]
     },
     "execution_count": 159,
     "metadata": {},
     "output_type": "execute_result"
    }
   ],
   "source": [
    "test.info()"
   ]
  },
  {
   "cell_type": "code",
   "execution_count": 160,
   "metadata": {},
   "outputs": [],
   "source": [
    "test2=User('test2','01011112222','000101')"
   ]
  },
  {
   "cell_type": "code",
   "execution_count": 161,
   "metadata": {},
   "outputs": [
    {
     "data": {
      "text/plain": [
       "('test2', '01011112222', '000101')"
      ]
     },
     "execution_count": 161,
     "metadata": {},
     "output_type": "execute_result"
    }
   ],
   "source": [
    "test2.info()"
   ]
  },
  {
   "cell_type": "code",
   "execution_count": 147,
   "metadata": {},
   "outputs": [
    {
     "data": {
      "text/plain": [
       "'alba의 일을 완료하였습니다. 현재의 잔액은 700입니다.'"
      ]
     },
     "execution_count": 147,
     "metadata": {},
     "output_type": "execute_result"
    }
   ],
   "source": [
    "test.work(\"alba\")"
   ]
  },
  {
   "cell_type": "code",
   "execution_count": 148,
   "metadata": {},
   "outputs": [
    {
     "data": {
      "text/plain": [
       "'clothes을(를) 구매하였습니다. 현재 잔액은 200입니다'"
      ]
     },
     "execution_count": 148,
     "metadata": {},
     "output_type": "execute_result"
    }
   ],
   "source": [
    "test.buy(\"clothes\")"
   ]
  },
  {
   "cell_type": "code",
   "execution_count": 156,
   "metadata": {},
   "outputs": [
    {
     "data": {
      "text/plain": [
       "('yys', '01012345678', '000114')"
      ]
     },
     "execution_count": 156,
     "metadata": {},
     "output_type": "execute_result"
    }
   ],
   "source": [
    "test.info()"
   ]
  },
  {
   "cell_type": "code",
   "execution_count": 149,
   "metadata": {},
   "outputs": [
    {
     "data": {
      "text/plain": [
       "'work의 목록이 추가되었습니다'"
      ]
     },
     "execution_count": 149,
     "metadata": {},
     "output_type": "execute_result"
    }
   ],
   "source": [
    "test.add_type('work','teach',200)"
   ]
  },
  {
   "cell_type": "code",
   "execution_count": 150,
   "metadata": {},
   "outputs": [
    {
     "data": {
      "text/plain": [
       "'teach의 일을 완료하였습니다. 현재의 잔액은 400입니다.'"
      ]
     },
     "execution_count": 150,
     "metadata": {},
     "output_type": "execute_result"
    }
   ],
   "source": [
    "test.work('teach')"
   ]
  },
  {
   "cell_type": "code",
   "execution_count": 151,
   "metadata": {},
   "outputs": [
    {
     "data": {
      "text/plain": [
       "'buy의 목록이 추가되었습니다'"
      ]
     },
     "execution_count": 151,
     "metadata": {},
     "output_type": "execute_result"
    }
   ],
   "source": [
    "test.add_type('buy','coffee',100)"
   ]
  },
  {
   "cell_type": "code",
   "execution_count": 152,
   "metadata": {},
   "outputs": [
    {
     "data": {
      "text/plain": [
       "'coffee을(를) 구매하였습니다. 현재 잔액은 300입니다'"
      ]
     },
     "execution_count": 152,
     "metadata": {},
     "output_type": "execute_result"
    }
   ],
   "source": [
    "test.buy('coffee')"
   ]
  },
  {
   "cell_type": "code",
   "execution_count": 153,
   "metadata": {},
   "outputs": [
    {
     "data": {
      "text/plain": [
       "'buy의 목록이 추가되었습니다'"
      ]
     },
     "execution_count": 153,
     "metadata": {},
     "output_type": "execute_result"
    }
   ],
   "source": [
    "test.add_type('buy','watch',300)"
   ]
  },
  {
   "cell_type": "code",
   "execution_count": 154,
   "metadata": {},
   "outputs": [
    {
     "data": {
      "text/plain": [
       "'watch을(를) 구매하였습니다. 현재 잔액은 0입니다'"
      ]
     },
     "execution_count": 154,
     "metadata": {},
     "output_type": "execute_result"
    }
   ],
   "source": [
    "test.buy('watch')"
   ]
  },
  {
   "cell_type": "code",
   "execution_count": 155,
   "metadata": {},
   "outputs": [
    {
     "data": {
      "text/plain": [
       "{'cash': 200, 'food': 300, 'clothes': 500, 'coffee': 100, 'watch': 300}"
      ]
     },
     "execution_count": 155,
     "metadata": {},
     "output_type": "execute_result"
    }
   ],
   "source": [
    "test.item_type"
   ]
  },
  {
   "cell_type": "code",
   "execution_count": null,
   "metadata": {},
   "outputs": [],
   "source": []
  }
 ],
 "metadata": {
  "kernelspec": {
   "display_name": "Python 3",
   "language": "python",
   "name": "python3"
  },
  "language_info": {
   "codemirror_mode": {
    "name": "ipython",
    "version": 3
   },
   "file_extension": ".py",
   "mimetype": "text/x-python",
   "name": "python",
   "nbconvert_exporter": "python",
   "pygments_lexer": "ipython3",
   "version": "3.11.2"
  },
  "orig_nbformat": 4
 },
 "nbformat": 4,
 "nbformat_minor": 2
}
