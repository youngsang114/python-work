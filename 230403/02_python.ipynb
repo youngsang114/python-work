{
 "cells": [
  {
   "attachments": {},
   "cell_type": "markdown",
   "metadata": {},
   "source": [
    "# 함수"
   ]
  },
  {
   "cell_type": "code",
   "execution_count": 2,
   "metadata": {},
   "outputs": [],
   "source": [
    "#매개변수는 함수에 입력으로 전달된 값을 받는 변수\n",
    "#인자는 함수를 호출할 때 전달하는 입력 값"
   ]
  },
  {
   "cell_type": "code",
   "execution_count": 20,
   "metadata": {},
   "outputs": [
    {
     "name": "stdout",
     "output_type": "stream",
     "text": [
      "Hello\n"
     ]
    }
   ],
   "source": [
    "a='Hello'\n",
    "print(a)"
   ]
  },
  {
   "cell_type": "code",
   "execution_count": 19,
   "metadata": {},
   "outputs": [
    {
     "name": "stdout",
     "output_type": "stream",
     "text": [
      "5\n"
     ]
    }
   ],
   "source": [
    "# 문자의 길이를 출력해주는 함수\n",
    "print(len(a))"
   ]
  },
  {
   "cell_type": "code",
   "execution_count": 23,
   "metadata": {},
   "outputs": [
    {
     "name": "stdout",
     "output_type": "stream",
     "text": [
      "HELLO\n",
      "hello\n",
      "hELLO\n"
     ]
    }
   ],
   "source": [
    "# 문자를 대문자나 소문자로 반환하는 함수\n",
    "print(a.upper())\n",
    "print(a.lower())\n",
    "print(a.swapcase())\n"
   ]
  },
  {
   "cell_type": "code",
   "execution_count": 37,
   "metadata": {},
   "outputs": [
    {
     "data": {
      "text/plain": [
       "'      Hello World    '"
      ]
     },
     "execution_count": 37,
     "metadata": {},
     "output_type": "execute_result"
    }
   ],
   "source": [
    "# 공백을 제거하는 함수수\n",
    "# 단어와 단어 사이의 공백은 삭제되지 않는다\n",
    "# 괄호 안에 특정한 문자를 넣으면 특정한 문제를 삭제할 수 있다\n",
    "a='     Hello World    '\n",
    "a"
   ]
  },
  {
   "cell_type": "code",
   "execution_count": 31,
   "metadata": {},
   "outputs": [
    {
     "data": {
      "text/plain": [
       "'Hello World'"
      ]
     },
     "execution_count": 31,
     "metadata": {},
     "output_type": "execute_result"
    }
   ],
   "source": [
    "# 좌우 모두 공백을 제거\n",
    "a.strip()"
   ]
  },
  {
   "cell_type": "code",
   "execution_count": 32,
   "metadata": {},
   "outputs": [
    {
     "data": {
      "text/plain": [
       "'Hello World    '"
      ]
     },
     "execution_count": 32,
     "metadata": {},
     "output_type": "execute_result"
    }
   ],
   "source": [
    "# 좌측 공백만 제거\n",
    "a.lstrip()"
   ]
  },
  {
   "cell_type": "code",
   "execution_count": 33,
   "metadata": {},
   "outputs": [
    {
     "data": {
      "text/plain": [
       "'      Hello World'"
      ]
     },
     "execution_count": 33,
     "metadata": {},
     "output_type": "execute_result"
    }
   ],
   "source": [
    "# 우측 공백만 제거\n",
    "a.rstrip()"
   ]
  },
  {
   "cell_type": "code",
   "execution_count": 38,
   "metadata": {},
   "outputs": [
    {
     "data": {
      "text/plain": [
       "'2.11'"
      ]
     },
     "execution_count": 38,
     "metadata": {},
     "output_type": "execute_result"
    }
   ],
   "source": [
    "b=\"$2.11\"\n",
    "# b라는 변수에 있는'%' 표시를 제거\n",
    "b.lstrip('$')"
   ]
  },
  {
   "cell_type": "code",
   "execution_count": 40,
   "metadata": {},
   "outputs": [
    {
     "data": {
      "text/plain": [
       "'2.$11'"
      ]
     },
     "execution_count": 40,
     "metadata": {},
     "output_type": "execute_result"
    }
   ],
   "source": [
    "b=\"$2.$11$\"\n",
    "b.strip('$')         #단어 사이에 있는 공백은 지우지 못한다"
   ]
  },
  {
   "cell_type": "code",
   "execution_count": 41,
   "metadata": {},
   "outputs": [
    {
     "data": {
      "text/plain": [
       "'-2.-11-'"
      ]
     },
     "execution_count": 41,
     "metadata": {},
     "output_type": "execute_result"
    }
   ],
   "source": [
    "# 특정한 단어를 대체하는 함수\n",
    "# replace(기준단어, 대체할 단어)\n",
    "# b변수의 '$' 표기를 '-'로 변경\n",
    "b.replace('$','-')"
   ]
  },
  {
   "cell_type": "code",
   "execution_count": 42,
   "metadata": {},
   "outputs": [
    {
     "data": {
      "text/plain": [
       "'2.11'"
      ]
     },
     "execution_count": 42,
     "metadata": {},
     "output_type": "execute_result"
    }
   ],
   "source": [
    "# b 변수의 '$'표기를 삭제하려면?\n",
    "b.replace('$','')"
   ]
  },
  {
   "cell_type": "code",
   "execution_count": 43,
   "metadata": {},
   "outputs": [
    {
     "data": {
      "text/plain": [
       "'HelloWorld'"
      ]
     },
     "execution_count": 43,
     "metadata": {},
     "output_type": "execute_result"
    }
   ],
   "source": [
    "# a 변수의 공백을 모두 삭제하려면?\n",
    "a.replace(' ','')"
   ]
  },
  {
   "cell_type": "code",
   "execution_count": 44,
   "metadata": {},
   "outputs": [
    {
     "name": "stdout",
     "output_type": "stream",
     "text": [
      "['1', '2', '3', '4', '5']\n"
     ]
    }
   ],
   "source": [
    "# 문자열을 특정한 값을 기준으로 나눠주는 함수\n",
    "# split(\"특정한 값\")---> 인자 값을 아무것도 넣지 않으면 \"\"을 기준으로 나눠준다\n",
    "\n",
    "a = \"1,2,3,4,5\"\n",
    "b = '1 2 3 4 5'\n",
    "print(a.split(','))  # 리스트로 출력됨"
   ]
  },
  {
   "cell_type": "code",
   "execution_count": 45,
   "metadata": {},
   "outputs": [
    {
     "name": "stdout",
     "output_type": "stream",
     "text": [
      "['1', '2', '3', '4', '5']\n"
     ]
    }
   ],
   "source": [
    "print(b.split())    # \"\"을 기준으로 나눠준다"
   ]
  },
  {
   "cell_type": "code",
   "execution_count": 46,
   "metadata": {},
   "outputs": [
    {
     "name": "stdout",
     "output_type": "stream",
     "text": [
      "3\n"
     ]
    }
   ],
   "source": [
    "print(a.split(\",\")[2])"
   ]
  },
  {
   "cell_type": "code",
   "execution_count": 47,
   "metadata": {},
   "outputs": [
    {
     "name": "stdout",
     "output_type": "stream",
     "text": [
      "6\n",
      "1\n"
     ]
    }
   ],
   "source": [
    "# max() --> 인자값들 중에 가장 큰 숫자를 출력\n",
    "# min() --> 인자값들 중에 가장 작은 숫자를 출력\n",
    "# mean() --> 인자값들 중에 평균을 출력\n",
    "\n",
    "print(max(1,6,3,4))\n",
    "print(min(1,6,3,4))\n"
   ]
  },
  {
   "attachments": {},
   "cell_type": "markdown",
   "metadata": {},
   "source": [
    "# 일반함수"
   ]
  },
  {
   "cell_type": "code",
   "execution_count": 76,
   "metadata": {},
   "outputs": [
    {
     "name": "stdout",
     "output_type": "stream",
     "text": [
      "Hello\n"
     ]
    }
   ],
   "source": [
    "# 일반함수\n",
    "# return은 마지막에 한번만 적기--->그래야 미학적으로 깔끔?\n",
    "\n",
    "#매개 변수가 존재하지 않는 경우\n",
    "#함수 선언, 생성\n",
    "def func_1():\n",
    "    return \"Hello\"\n",
    "\n",
    "#함수를 호출\n",
    "print(func_1())\n"
   ]
  },
  {
   "cell_type": "code",
   "execution_count": 53,
   "metadata": {},
   "outputs": [
    {
     "name": "stdout",
     "output_type": "stream",
     "text": [
      "9\n",
      "3\n",
      "HelloWorld\n"
     ]
    }
   ],
   "source": [
    "# 매개 변수가 존재하는 경우\n",
    "def func_2(a,b):\n",
    "    c=a+b\n",
    "    return c\n",
    "c=func_2(3,6)\n",
    "print(c)\n",
    "print(func_2(1,2))\n",
    "print(func_2('Hello','World'))"
   ]
  },
  {
   "cell_type": "code",
   "execution_count": 56,
   "metadata": {},
   "outputs": [],
   "source": [
    "#함수의 매개변수의 개수와 호출할때 인자의 개수가 다르면?\n",
    "\n",
    "#func_2(4)\n",
    "#TypeError: func_2() missing 1 required positional argument: 'b'\n",
    "\n",
    "#func_2(3,4,5)\n",
    "#TypeError: func_2() takes 2 positional arguments but 3 were given\n"
   ]
  },
  {
   "cell_type": "code",
   "execution_count": 60,
   "metadata": {},
   "outputs": [
    {
     "name": "stdout",
     "output_type": "stream",
     "text": [
      "-2\n"
     ]
    }
   ],
   "source": [
    "def func_3(a,b):\n",
    "    cd=10\n",
    "    result = a+b-10\n",
    "    return result\n",
    "print(func_3(3,5))\n",
    "# print(cd) ---> NameError: name 'cd' is not defined"
   ]
  },
  {
   "attachments": {},
   "cell_type": "markdown",
   "metadata": {},
   "source": [
    "- 전역 변수\n",
    "    1. 어디서든 사용이 가능한 변수\n",
    "    2. 들여쓰기를 하지 않은 공간에서 생성한 변수\n",
    "- 지역 변수\n",
    "    1. 특정한 구간에서만 사용이 가능한 변수\n",
    "    2. 들여쓰기가 된 공간에서 생성한 변수(휘발성 변수)\n",
    "    3. 함수 안에서만 만들어진 변수, 클래스 안에서 만들어진 변수, for문안에서 만들어진 변수"
   ]
  },
  {
   "cell_type": "code",
   "execution_count": 63,
   "metadata": {},
   "outputs": [
    {
     "name": "stdout",
     "output_type": "stream",
     "text": [
      "15\n"
     ]
    }
   ],
   "source": [
    "x=3\n",
    "\n",
    "def func_4(a):\n",
    "    result=a*x\n",
    "    return result\n",
    "\n",
    "print(func_4(5))\n",
    "\n",
    "# x는 전역변수\n",
    "# a는 매개변수(지역변수)"
   ]
  },
  {
   "cell_type": "code",
   "execution_count": 70,
   "metadata": {},
   "outputs": [
    {
     "name": "stdout",
     "output_type": "stream",
     "text": [
      "6/7\n",
      "-1\n"
     ]
    }
   ],
   "source": [
    "# 매개변수에 기본값 설정\n",
    "\n",
    "def func_5(a,b,c=2):\n",
    "    result=a+b-c\n",
    "    return result\n",
    "\n",
    "\n",
    "#기존의 코드를 가져와서 쓸때 밑에 내용을 사용한다.\n",
    "\n",
    "print(func_5(5,4,3), end='/')     #원래 프린트의 end=\"\\n\"으로 되어있다.\n",
    "print(func_5(5,4))\n",
    "print(func_5(c=5,a=3,b=1))"
   ]
  },
  {
   "cell_type": "code",
   "execution_count": 78,
   "metadata": {},
   "outputs": [
    {
     "name": "stdout",
     "output_type": "stream",
     "text": [
      "7\n",
      "-1\n",
      "c의 값이 잘못 되었습니다\n"
     ]
    }
   ],
   "source": [
    "#c의 값이 1이면 a,b의 합계 return\n",
    "#c의 값이 2이면 a,b의 차이 return\n",
    "#c가 그 외의 데이터이면 'c의 값이 잘못되었습니다' return \n",
    "\n",
    "def func_6(a,b,c):\n",
    "    if c==1:\n",
    "        # return a+b\n",
    "        result=a+b\n",
    "    elif c==2:\n",
    "        # return a-b\n",
    "        result=a-b\n",
    "    else:\n",
    "        # return \"c의 값이 잘못 되었습니다\"\n",
    "        result=\"c의 값이 잘못 되었습니다\"\n",
    "\n",
    "    return result                         # return은 함수에 하나만 쓰는게 좋다. \n",
    "    \n",
    "print(func_6(3,4,1))\n",
    "print(func_6(3,4,2))\n",
    "print(func_6(3,4,0))\n",
    "\n"
   ]
  },
  {
   "attachments": {},
   "cell_type": "markdown",
   "metadata": {},
   "source": [
    "### 예제 문제\n",
    "1. 함수 생성(매개 변수 2개: _min,_max\n",
    "2. _min부터 _max까지의 합계를 출력하는 함수\n"
   ]
  },
  {
   "cell_type": "code",
   "execution_count": 90,
   "metadata": {},
   "outputs": [
    {
     "name": "stdout",
     "output_type": "stream",
     "text": [
      "52\n",
      "30\n",
      "6\n"
     ]
    }
   ],
   "source": [
    "def name_1(_min,_max):\n",
    "    sum=0\n",
    "    if _max>=_min:\n",
    "        for i in range(_min,_max+1,1):\n",
    "            sum+=i\n",
    "    else:\n",
    "        for i in range(_max,_min+1,1):\n",
    "            sum+=i\n",
    "    return sum\n",
    "\n",
    "print(name_1(3,10))\n",
    "print(name_1(9,6))\n",
    "print(name_1(6,6))\n",
    "\n",
    "            "
   ]
  },
  {
   "cell_type": "code",
   "execution_count": 97,
   "metadata": {},
   "outputs": [
    {
     "name": "stdout",
     "output_type": "stream",
     "text": [
      "52\n",
      "30\n",
      "6\n"
     ]
    }
   ],
   "source": [
    "# if문 안쓰고 max(),min()의 내장함수를 이용해서 코딩하기!!!\n",
    "\n",
    "def name_2(_min,_max):\n",
    "    sum=0\n",
    "\n",
    "\n",
    "    for i in range(min(_min,_max), max(_min,_max)+1):\n",
    "        sum+=i\n",
    "    return sum\n",
    "\n",
    "print(name_2(3,10))\n",
    "print(name_2(9,6))\n",
    "print(name_2(6,6))"
   ]
  },
  {
   "cell_type": "code",
   "execution_count": null,
   "metadata": {},
   "outputs": [],
   "source": [
    "#함수 생성 --> 인자의 개수가 가변인 경우"
   ]
  },
  {
   "cell_type": "code",
   "execution_count": 98,
   "metadata": {},
   "outputs": [
    {
     "name": "stdout",
     "output_type": "stream",
     "text": [
      "15\n",
      "55\n",
      "30\n"
     ]
    }
   ],
   "source": [
    "def func_7(*args):    #*args: 여러개의 항목을 가진 변수다. *이 중요, args는 바뀔 수 있다.\n",
    "    result=0\n",
    "    for i in args:\n",
    "        result+=i\n",
    "    return result\n",
    "\n",
    "print(func_7(1,2,3,4,5))\n",
    "print(func_7(1,2,3,4,5,6,7,8,9,10))\n",
    "print(func_7(2,4,6,8,10))\n"
   ]
  },
  {
   "attachments": {},
   "cell_type": "markdown",
   "metadata": {},
   "source": [
    "- max(),min()함수를 생성\n",
    "    1. 인자의 개수가 가변이다. --> *매개변수 이용\n",
    "    2. 각각의 항목들을 비교해서 가장 큰 숫자를 출력 -->return int형태\n",
    "    3. 예를들어 4개의 항목의 데이터가 대입 \n",
    "        1. 첫번째 항목과 두번째 항목을 비교해서 큰 값을 새로운 변수에 대입을 시킨다\n",
    "        2. 1번 과정에서 나온 값과 3번째 값을 비교한다\n",
    "        3. 2번 과정에서 큰 값과 마지막 값과 비교해서 대입한다\n"
   ]
  },
  {
   "cell_type": "code",
   "execution_count": 113,
   "metadata": {},
   "outputs": [
    {
     "name": "stdout",
     "output_type": "stream",
     "text": [
      "(19, 1)\n"
     ]
    }
   ],
   "source": [
    "def custom_max_min(*args):\n",
    "    n_max = args[0]\n",
    "    n_min = args[0]\n",
    "    for i in range(1,len(args),1):\n",
    "        if n_max < args[i]:\n",
    "            n_max =args[i]\n",
    "\n",
    "    for i in range(len(args)):\n",
    "        if n_min> args[i]:\n",
    "            n_min=args[i]\n",
    "\n",
    "    return n_max,n_min \n",
    "\n",
    "print(custom_max_min(3,2,1,19,7))\n",
    "    "
   ]
  },
  {
   "cell_type": "code",
   "execution_count": 114,
   "metadata": {},
   "outputs": [
    {
     "name": "stdout",
     "output_type": "stream",
     "text": [
      "(29, -3)\n"
     ]
    }
   ],
   "source": [
    "def custom_max_min2(*args):\n",
    "    n_max = args[0]\n",
    "    n_min = args[0]\n",
    "    for i in args:\n",
    "        if n_max < i:\n",
    "            n_max=i\n",
    "\n",
    "    for i in args:\n",
    "        if n_min > i:\n",
    "            n_min=i\n",
    "    \n",
    "    return n_max,n_min\n",
    "\n",
    "print(custom_max_min2(29,-3,1,19,7))"
   ]
  },
  {
   "attachments": {},
   "cell_type": "markdown",
   "metadata": {},
   "source": [
    "- 평균을 출력하는 함수 생성\n",
    "    1. 인자 개수가 가변\n",
    "    2. 받아온 인자 값들을 원소 하나씩 출력\n",
    "    3. 각 원소들의 합계\n",
    "        1. 합계라는 변수 생성 0을 대입\n",
    "        2. 각 원소들의 값들을 합계에 추가\n",
    "    4. 합계/인자의 개수 ->평균이라는 변수에 대입\n",
    "    5. 평균 값을 리턴\n"
   ]
  },
  {
   "cell_type": "code",
   "execution_count": 118,
   "metadata": {},
   "outputs": [
    {
     "name": "stdout",
     "output_type": "stream",
     "text": [
      "3.0\n",
      "293.73333333333335\n"
     ]
    }
   ],
   "source": [
    "def my_mean(*args):\n",
    "    sum=0\n",
    "    for i in args:\n",
    "        sum+=i\n",
    "    mean= sum/len(args)\n",
    "    return mean\n",
    "\n",
    "print(my_mean(1,2,3,4,5))\n",
    "print(my_mean(1,2,235,45,64,767,5,34,7,846,957,679,678,80,6))\n"
   ]
  },
  {
   "cell_type": "code",
   "execution_count": 123,
   "metadata": {},
   "outputs": [
    {
     "name": "stdout",
     "output_type": "stream",
     "text": [
      "3.0\n",
      "293.73333333333335\n"
     ]
    }
   ],
   "source": [
    "def my_mean2(*args):\n",
    "\n",
    "    #while 문\n",
    "    # 초기값 지정\n",
    "    i=0\n",
    "    sum=0\n",
    "    while i< len(args):\n",
    "        sum += args[i]\n",
    "        i+=1\n",
    "\n",
    "    mean=sum/len(args)\n",
    "    return mean\n",
    "\n",
    "print(my_mean2(1,2,3,4,5))\n",
    "print(my_mean2(1,2,235,45,64,767,5,34,7,846,957,679,678,80,6))\n"
   ]
  },
  {
   "cell_type": "code",
   "execution_count": 125,
   "metadata": {},
   "outputs": [],
   "source": [
    "# 외부의 모듈을 로드\n",
    "import mod1"
   ]
  },
  {
   "cell_type": "code",
   "execution_count": 126,
   "metadata": {},
   "outputs": [
    {
     "data": {
      "text/plain": [
       "(6, 1)"
      ]
     },
     "execution_count": 126,
     "metadata": {},
     "output_type": "execute_result"
    }
   ],
   "source": [
    "mod1.custom_max_min(1,2,3,6,5,4)"
   ]
  },
  {
   "cell_type": "code",
   "execution_count": 127,
   "metadata": {},
   "outputs": [
    {
     "data": {
      "text/plain": [
       "4.0"
      ]
     },
     "execution_count": 127,
     "metadata": {},
     "output_type": "execute_result"
    }
   ],
   "source": [
    "mod1.my_mean(1,2,3,4,5,6,7)"
   ]
  },
  {
   "attachments": {},
   "cell_type": "markdown",
   "metadata": {},
   "source": [
    "# 클래스\n"
   ]
  },
  {
   "attachments": {},
   "cell_type": "markdown",
   "metadata": {},
   "source": [
    "- 클래스는 변수 + 함수\n",
    "    1. 속성: 변수\n",
    "    2. 매서드 : 함수\n",
    "- 클래스 안에 함수 설정에서 첫번째 매개변수는 self로 선언한다\n",
    "- _init_은 클래스가 생성될때 한 번만 실행되는 함수, 알아서 생성하면 자동으로 생성됨\n",
    "- \n"
   ]
  }
 ],
 "metadata": {
  "kernelspec": {
   "display_name": "Python 3",
   "language": "python",
   "name": "python3"
  },
  "language_info": {
   "name": "python",
   "version": "3.11.2"
  },
  "orig_nbformat": 4
 },
 "nbformat": 4,
 "nbformat_minor": 2
}
