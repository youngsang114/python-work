{
 "cells": [
  {
   "attachments": {},
   "cell_type": "markdown",
   "metadata": {},
   "source": [
    "## 예제\n",
    "1. test_csv폴더에 있는 '유통+업종(백화점,+할인점,+슈퍼마켓,+편의점)+카드소비트렌드+데이터_1901_2109'파일을 로드\n",
    "2. 각 컬럼의 이름을['기준연월','업종','성별',연령대','총이용건수','총이용금액']\n",
    "3. 기준년월을 시계열데이터로 변경\n",
    "4. 성별 컬럼의 데이터를 1은 남자,2는 여자로 변경,9는 무관\n",
    "5. 남,녀 성별을 기준으로 연도별 전당 이용금액의 평균이 몇인지 출력"
   ]
  },
  {
   "cell_type": "code",
   "execution_count": 107,
   "metadata": {},
   "outputs": [],
   "source": [
    "import pandas as pd\n"
   ]
  },
  {
   "cell_type": "code",
   "execution_count": 108,
   "metadata": {},
   "outputs": [
    {
     "data": {
      "text/html": [
       "<div>\n",
       "<style scoped>\n",
       "    .dataframe tbody tr th:only-of-type {\n",
       "        vertical-align: middle;\n",
       "    }\n",
       "\n",
       "    .dataframe tbody tr th {\n",
       "        vertical-align: top;\n",
       "    }\n",
       "\n",
       "    .dataframe thead th {\n",
       "        text-align: right;\n",
       "    }\n",
       "</style>\n",
       "<table border=\"1\" class=\"dataframe\">\n",
       "  <thead>\n",
       "    <tr style=\"text-align: right;\">\n",
       "      <th></th>\n",
       "      <th>crym</th>\n",
       "      <th>tco_btc_nm</th>\n",
       "      <th>ma_fem_dc</th>\n",
       "      <th>agegrp_dc</th>\n",
       "      <th>tco_btc_u_ct</th>\n",
       "      <th>tco_btc_u_am</th>\n",
       "    </tr>\n",
       "  </thead>\n",
       "  <tbody>\n",
       "    <tr>\n",
       "      <th>0</th>\n",
       "      <td>201901</td>\n",
       "      <td>백화점</td>\n",
       "      <td>1</td>\n",
       "      <td>1</td>\n",
       "      <td>1</td>\n",
       "      <td>7600.000000</td>\n",
       "    </tr>\n",
       "  </tbody>\n",
       "</table>\n",
       "</div>"
      ],
      "text/plain": [
       "     crym tco_btc_nm  ma_fem_dc  agegrp_dc  tco_btc_u_ct  tco_btc_u_am\n",
       "0  201901        백화점          1          1             1   7600.000000"
      ]
     },
     "execution_count": 108,
     "metadata": {},
     "output_type": "execute_result"
    }
   ],
   "source": [
    "_group1=pd.read_csv(\"../test_csv/유통+업종(백화점,+할인점,+슈퍼마켓,+편의점)+카드소비트렌드+데이터_1901_2109.csv\", encoding='euc-kr')\n",
    "_group1.head(1)\n",
    "\n",
    "#'euc-kr'은 한글을 읽어주는 encoding"
   ]
  },
  {
   "cell_type": "code",
   "execution_count": 109,
   "metadata": {},
   "outputs": [
    {
     "data": {
      "text/html": [
       "<div>\n",
       "<style scoped>\n",
       "    .dataframe tbody tr th:only-of-type {\n",
       "        vertical-align: middle;\n",
       "    }\n",
       "\n",
       "    .dataframe tbody tr th {\n",
       "        vertical-align: top;\n",
       "    }\n",
       "\n",
       "    .dataframe thead th {\n",
       "        text-align: right;\n",
       "    }\n",
       "</style>\n",
       "<table border=\"1\" class=\"dataframe\">\n",
       "  <thead>\n",
       "    <tr style=\"text-align: right;\">\n",
       "      <th></th>\n",
       "      <th>기준연월</th>\n",
       "      <th>업종</th>\n",
       "      <th>성별</th>\n",
       "      <th>연령대</th>\n",
       "      <th>총이용건수</th>\n",
       "      <th>총이용금액</th>\n",
       "    </tr>\n",
       "  </thead>\n",
       "  <tbody>\n",
       "    <tr>\n",
       "      <th>0</th>\n",
       "      <td>201901</td>\n",
       "      <td>백화점</td>\n",
       "      <td>1</td>\n",
       "      <td>1</td>\n",
       "      <td>1</td>\n",
       "      <td>7600.000000</td>\n",
       "    </tr>\n",
       "    <tr>\n",
       "      <th>1</th>\n",
       "      <td>201901</td>\n",
       "      <td>백화점</td>\n",
       "      <td>1</td>\n",
       "      <td>10</td>\n",
       "      <td>379</td>\n",
       "      <td>19458720.000000</td>\n",
       "    </tr>\n",
       "    <tr>\n",
       "      <th>2</th>\n",
       "      <td>201901</td>\n",
       "      <td>백화점</td>\n",
       "      <td>1</td>\n",
       "      <td>20</td>\n",
       "      <td>45173</td>\n",
       "      <td>4747711001.000000</td>\n",
       "    </tr>\n",
       "    <tr>\n",
       "      <th>3</th>\n",
       "      <td>201901</td>\n",
       "      <td>백화점</td>\n",
       "      <td>1</td>\n",
       "      <td>30</td>\n",
       "      <td>271858</td>\n",
       "      <td>27918261543.000000</td>\n",
       "    </tr>\n",
       "    <tr>\n",
       "      <th>4</th>\n",
       "      <td>201901</td>\n",
       "      <td>백화점</td>\n",
       "      <td>1</td>\n",
       "      <td>40</td>\n",
       "      <td>391109</td>\n",
       "      <td>37911486656.000000</td>\n",
       "    </tr>\n",
       "  </tbody>\n",
       "</table>\n",
       "</div>"
      ],
      "text/plain": [
       "     기준연월   업종  성별  연령대   총이용건수              총이용금액\n",
       "0  201901  백화점   1    1       1        7600.000000\n",
       "1  201901  백화점   1   10     379    19458720.000000\n",
       "2  201901  백화점   1   20   45173  4747711001.000000\n",
       "3  201901  백화점   1   30  271858 27918261543.000000\n",
       "4  201901  백화점   1   40  391109 37911486656.000000"
      ]
     },
     "execution_count": 109,
     "metadata": {},
     "output_type": "execute_result"
    }
   ],
   "source": [
    "_group1.columns=['기준연월','업종','성별','연령대','총이용건수','총이용금액']\n",
    "\n",
    "# 판다스에서 지수표현 없애기\n",
    "pd.options.display.float_format='{:2f}'.format\n",
    "\n",
    "_group1.head(5)"
   ]
  },
  {
   "cell_type": "code",
   "execution_count": 110,
   "metadata": {},
   "outputs": [],
   "source": [
    "_time= _group1[\"기준연월\"]\n",
    "#_time\n",
    "_group1[\"기준연월\"]=pd.to_datetime(_time, format=\"%Y%m\")\n",
    "\n",
    "# 인덱스를 기준년월로 설정\n",
    "_group1.set_index('기준연월', inplace=True)\n",
    "\n"
   ]
  },
  {
   "cell_type": "code",
   "execution_count": 111,
   "metadata": {},
   "outputs": [
    {
     "data": {
      "text/plain": [
       "10    264\n",
       "20    264\n",
       "30    264\n",
       "40    264\n",
       "50    264\n",
       "60    264\n",
       "70    264\n",
       "80    264\n",
       "90    264\n",
       "0     233\n",
       "1      39\n",
       "Name: 연령대, dtype: int64"
      ]
     },
     "execution_count": 111,
     "metadata": {},
     "output_type": "execute_result"
    }
   ],
   "source": [
    "# 괴상한 데이터 \n",
    "_group1['연령대'].value_counts()   # 나이 0은 뭘까????"
   ]
  },
  {
   "cell_type": "code",
   "execution_count": 112,
   "metadata": {},
   "outputs": [
    {
     "data": {
      "text/plain": [
       "<bound method IndexOpsMixin.value_counts of 기준연월\n",
       "2019-01-01    남자\n",
       "2019-01-01    남자\n",
       "2019-01-01    남자\n",
       "2019-01-01    남자\n",
       "2019-01-01    남자\n",
       "              ..\n",
       "2021-09-01    여자\n",
       "2021-09-01    여자\n",
       "2021-09-01    여자\n",
       "2021-09-01    여자\n",
       "2021-09-01    여자\n",
       "Name: 성별, Length: 2648, dtype: object>"
      ]
     },
     "execution_count": 112,
     "metadata": {},
     "output_type": "execute_result"
    }
   ],
   "source": [
    "#case 1\n",
    "def change(x):\n",
    "    if x ==1:\n",
    "        result='남자'\n",
    "    elif x==2:\n",
    "        result='여자'\n",
    "    elif x==9:\n",
    "        result='무관'\n",
    "    else:\n",
    "        result='-'\n",
    "    \n",
    "    return result\n",
    "\n",
    "_group1[\"성별\"].apply(change).value_counts\n"
   ]
  },
  {
   "cell_type": "code",
   "execution_count": 113,
   "metadata": {},
   "outputs": [
    {
     "data": {
      "text/plain": [
       "기준연월\n",
       "2019-01-01    남자\n",
       "2019-01-01    남자\n",
       "2019-01-01    남자\n",
       "2019-01-01    남자\n",
       "2019-01-01    남자\n",
       "              ..\n",
       "2021-09-01    여자\n",
       "2021-09-01    여자\n",
       "2021-09-01    여자\n",
       "2021-09-01    여자\n",
       "2021-09-01    여자\n",
       "Name: 성별, Length: 2648, dtype: object"
      ]
     },
     "execution_count": 113,
     "metadata": {},
     "output_type": "execute_result"
    }
   ],
   "source": [
    "_group1['성별'].apply(lambda x: \"남자\" if (x==1)\n",
    "                    else (\"여자\" if(x==2) else \"무관\" ))"
   ]
  },
  {
   "cell_type": "code",
   "execution_count": 114,
   "metadata": {},
   "outputs": [],
   "source": [
    "# 여러개로 바꿀때는 replace에 {}형태로 바꾼다!!!!!!!!!!!!!!!!! 뭐를 뭐로 바꾸는지 알아야되기 때문에\n",
    "\n",
    "_group1[\"성별\"]=_group1[\"성별\"].replace({1:'남자',2:'여자',9:'무관'})\n",
    "#_group1\n",
    "\n"
   ]
  },
  {
   "cell_type": "code",
   "execution_count": 115,
   "metadata": {},
   "outputs": [
    {
     "data": {
      "text/html": [
       "<div>\n",
       "<style scoped>\n",
       "    .dataframe tbody tr th:only-of-type {\n",
       "        vertical-align: middle;\n",
       "    }\n",
       "\n",
       "    .dataframe tbody tr th {\n",
       "        vertical-align: top;\n",
       "    }\n",
       "\n",
       "    .dataframe thead th {\n",
       "        text-align: right;\n",
       "    }\n",
       "</style>\n",
       "<table border=\"1\" class=\"dataframe\">\n",
       "  <thead>\n",
       "    <tr style=\"text-align: right;\">\n",
       "      <th></th>\n",
       "      <th>업종</th>\n",
       "      <th>성별</th>\n",
       "      <th>연령대</th>\n",
       "      <th>총이용건수</th>\n",
       "      <th>총이용금액</th>\n",
       "      <th>연도</th>\n",
       "    </tr>\n",
       "    <tr>\n",
       "      <th>기준연월</th>\n",
       "      <th></th>\n",
       "      <th></th>\n",
       "      <th></th>\n",
       "      <th></th>\n",
       "      <th></th>\n",
       "      <th></th>\n",
       "    </tr>\n",
       "  </thead>\n",
       "  <tbody>\n",
       "    <tr>\n",
       "      <th>2019-01-01</th>\n",
       "      <td>백화점</td>\n",
       "      <td>남자</td>\n",
       "      <td>1</td>\n",
       "      <td>1</td>\n",
       "      <td>7600.000000</td>\n",
       "      <td>2019</td>\n",
       "    </tr>\n",
       "    <tr>\n",
       "      <th>2019-01-01</th>\n",
       "      <td>백화점</td>\n",
       "      <td>남자</td>\n",
       "      <td>10</td>\n",
       "      <td>379</td>\n",
       "      <td>19458720.000000</td>\n",
       "      <td>2019</td>\n",
       "    </tr>\n",
       "    <tr>\n",
       "      <th>2019-01-01</th>\n",
       "      <td>백화점</td>\n",
       "      <td>남자</td>\n",
       "      <td>20</td>\n",
       "      <td>45173</td>\n",
       "      <td>4747711001.000000</td>\n",
       "      <td>2019</td>\n",
       "    </tr>\n",
       "    <tr>\n",
       "      <th>2019-01-01</th>\n",
       "      <td>백화점</td>\n",
       "      <td>남자</td>\n",
       "      <td>30</td>\n",
       "      <td>271858</td>\n",
       "      <td>27918261543.000000</td>\n",
       "      <td>2019</td>\n",
       "    </tr>\n",
       "    <tr>\n",
       "      <th>2019-01-01</th>\n",
       "      <td>백화점</td>\n",
       "      <td>남자</td>\n",
       "      <td>40</td>\n",
       "      <td>391109</td>\n",
       "      <td>37911486656.000000</td>\n",
       "      <td>2019</td>\n",
       "    </tr>\n",
       "  </tbody>\n",
       "</table>\n",
       "</div>"
      ],
      "text/plain": [
       "             업종  성별  연령대   총이용건수              총이용금액    연도\n",
       "기준연월                                                     \n",
       "2019-01-01  백화점  남자    1       1        7600.000000  2019\n",
       "2019-01-01  백화점  남자   10     379    19458720.000000  2019\n",
       "2019-01-01  백화점  남자   20   45173  4747711001.000000  2019\n",
       "2019-01-01  백화점  남자   30  271858 27918261543.000000  2019\n",
       "2019-01-01  백화점  남자   40  391109 37911486656.000000  2019"
      ]
     },
     "execution_count": 115,
     "metadata": {},
     "output_type": "execute_result"
    }
   ],
   "source": [
    "# 연도 파생변수 생성\n",
    "\n",
    "_group1[\"연도\"]=_group1.index.strftime(\"%Y\")\n",
    "_group1.head()\n"
   ]
  },
  {
   "cell_type": "code",
   "execution_count": 116,
   "metadata": {},
   "outputs": [],
   "source": [
    "# 건당 이용금액 파생변수 생성\n",
    "# 총이용금액 / 총이용건수\n",
    "_group1[\"건당이용금액\"]=_group1[\"총이용금액\"]/_group1[\"총이용건수\"]"
   ]
  },
  {
   "cell_type": "code",
   "execution_count": 117,
   "metadata": {},
   "outputs": [
    {
     "data": {
      "text/html": [
       "<div>\n",
       "<style scoped>\n",
       "    .dataframe tbody tr th:only-of-type {\n",
       "        vertical-align: middle;\n",
       "    }\n",
       "\n",
       "    .dataframe tbody tr th {\n",
       "        vertical-align: top;\n",
       "    }\n",
       "\n",
       "    .dataframe thead th {\n",
       "        text-align: right;\n",
       "    }\n",
       "</style>\n",
       "<table border=\"1\" class=\"dataframe\">\n",
       "  <thead>\n",
       "    <tr style=\"text-align: right;\">\n",
       "      <th></th>\n",
       "      <th>업종</th>\n",
       "      <th>성별</th>\n",
       "      <th>연령대</th>\n",
       "      <th>총이용건수</th>\n",
       "      <th>총이용금액</th>\n",
       "      <th>연도</th>\n",
       "      <th>건당이용금액</th>\n",
       "    </tr>\n",
       "    <tr>\n",
       "      <th>기준연월</th>\n",
       "      <th></th>\n",
       "      <th></th>\n",
       "      <th></th>\n",
       "      <th></th>\n",
       "      <th></th>\n",
       "      <th></th>\n",
       "      <th></th>\n",
       "    </tr>\n",
       "  </thead>\n",
       "  <tbody>\n",
       "    <tr>\n",
       "      <th>2019-01-01</th>\n",
       "      <td>백화점</td>\n",
       "      <td>남자</td>\n",
       "      <td>1</td>\n",
       "      <td>1</td>\n",
       "      <td>7600.000000</td>\n",
       "      <td>2019</td>\n",
       "      <td>7600.000000</td>\n",
       "    </tr>\n",
       "    <tr>\n",
       "      <th>2019-01-01</th>\n",
       "      <td>백화점</td>\n",
       "      <td>남자</td>\n",
       "      <td>10</td>\n",
       "      <td>379</td>\n",
       "      <td>19458720.000000</td>\n",
       "      <td>2019</td>\n",
       "      <td>51342.269129</td>\n",
       "    </tr>\n",
       "    <tr>\n",
       "      <th>2019-01-01</th>\n",
       "      <td>백화점</td>\n",
       "      <td>남자</td>\n",
       "      <td>20</td>\n",
       "      <td>45173</td>\n",
       "      <td>4747711001.000000</td>\n",
       "      <td>2019</td>\n",
       "      <td>105100.635357</td>\n",
       "    </tr>\n",
       "    <tr>\n",
       "      <th>2019-01-01</th>\n",
       "      <td>백화점</td>\n",
       "      <td>남자</td>\n",
       "      <td>30</td>\n",
       "      <td>271858</td>\n",
       "      <td>27918261543.000000</td>\n",
       "      <td>2019</td>\n",
       "      <td>102694.279892</td>\n",
       "    </tr>\n",
       "    <tr>\n",
       "      <th>2019-01-01</th>\n",
       "      <td>백화점</td>\n",
       "      <td>남자</td>\n",
       "      <td>40</td>\n",
       "      <td>391109</td>\n",
       "      <td>37911486656.000000</td>\n",
       "      <td>2019</td>\n",
       "      <td>96933.301601</td>\n",
       "    </tr>\n",
       "  </tbody>\n",
       "</table>\n",
       "</div>"
      ],
      "text/plain": [
       "             업종  성별  연령대   총이용건수              총이용금액    연도        건당이용금액\n",
       "기준연월                                                                   \n",
       "2019-01-01  백화점  남자    1       1        7600.000000  2019   7600.000000\n",
       "2019-01-01  백화점  남자   10     379    19458720.000000  2019  51342.269129\n",
       "2019-01-01  백화점  남자   20   45173  4747711001.000000  2019 105100.635357\n",
       "2019-01-01  백화점  남자   30  271858 27918261543.000000  2019 102694.279892\n",
       "2019-01-01  백화점  남자   40  391109 37911486656.000000  2019  96933.301601"
      ]
     },
     "execution_count": 117,
     "metadata": {},
     "output_type": "execute_result"
    }
   ],
   "source": [
    "_group1.head()"
   ]
  },
  {
   "cell_type": "code",
   "execution_count": 122,
   "metadata": {},
   "outputs": [],
   "source": [
    "import platform\n",
    "import matplotlib.pyplot as plt"
   ]
  },
  {
   "cell_type": "code",
   "execution_count": 123,
   "metadata": {},
   "outputs": [],
   "source": [
    "# 그래프에서 한글 깨짐 방지\n",
    "if platform.system() == \"Darwin\":          # MAC인 경우\n",
    "    plt.rc('font', family =\"AppleGothic\")\n",
    "else:\n",
    "    plt.rc('font',family='Malgun Gothic')"
   ]
  },
  {
   "cell_type": "code",
   "execution_count": 124,
   "metadata": {},
   "outputs": [
    {
     "data": {
      "text/plain": [
       "<Axes: xlabel='연도,성별'>"
      ]
     },
     "execution_count": 124,
     "metadata": {},
     "output_type": "execute_result"
    },
    {
     "data": {
      "image/png": "[encoded data removed]",
      "text/plain": [
       "<Figure size 640x480 with 1 Axes>"
      ]
     },
     "metadata": {},
     "output_type": "display_data"
    }
   ],
   "source": [
    "(_group1[['연도','성별','건당이용금액']].groupby(['연도','성별']).mean()).plot.bar()"
   ]
  },
  {
   "cell_type": "code",
   "execution_count": 126,
   "metadata": {},
   "outputs": [],
   "source": [
    "pivot=pd.pivot_table(\n",
    "    _group1,\n",
    "    index= '연도',\n",
    "    columns= '성별',\n",
    "    aggfunc = 'mean',\n",
    "    values='건당이용금액'\n",
    ")"
   ]
  },
  {
   "cell_type": "code",
   "execution_count": 127,
   "metadata": {},
   "outputs": [
    {
     "data": {
      "text/plain": [
       "<Axes: xlabel='연도'>"
      ]
     },
     "execution_count": 127,
     "metadata": {},
     "output_type": "execute_result"
    },
    {
     "data": {
      "image/png": "[encoded data removed]",
      "text/plain": [
       "<Figure size 640x480 with 1 Axes>"
      ]
     },
     "metadata": {},
     "output_type": "display_data"
    }
   ],
   "source": [
    "pivot.plot.bar()"
   ]
  },
  {
   "cell_type": "code",
   "execution_count": null,
   "metadata": {},
   "outputs": [],
   "source": []
  }
 ],
 "metadata": {
  "kernelspec": {
   "display_name": "Python 3",
   "language": "python",
   "name": "python3"
  },
  "language_info": {
   "codemirror_mode": {
    "name": "ipython",
    "version": 3
   },
   "file_extension": ".py",
   "mimetype": "text/x-python",
   "name": "python",
   "nbconvert_exporter": "python",
   "pygments_lexer": "ipython3",
   "version": "3.11.2"
  },
  "orig_nbformat": 4
 },
 "nbformat": 4,
 "nbformat_minor": 2
}
