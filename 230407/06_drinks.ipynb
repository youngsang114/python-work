{
 "cells": [
  {
   "attachments": {},
   "cell_type": "markdown",
   "metadata": {},
   "source": [
    "## 예제 \n",
    "1. drinks.csv 파일 로드\n",
    "2. 결측치 확인\n",
    "3. 데이터프레임의 정보 출력\n",
    "4. continent 칼럼에서 결측치 존채 -> 결측치 'OT'로 대체\n",
    "5. continent 별 spirit_servings 칼럼의 평균,최소 ,최대, 합계를 출력\n",
    "6. total_litres_of_pure_alcohol 칼럼의 평균보다 높은 continent가 어디인지 출력\n",
    "7. 국가별 술 소비량 대비 알콜의 비율 컬럼을 추가"
   ]
  },
  {
   "cell_type": "code",
   "execution_count": 2,
   "metadata": {},
   "outputs": [],
   "source": [
    "import pandas as pd"
   ]
  },
  {
   "cell_type": "code",
   "execution_count": 3,
   "metadata": {},
   "outputs": [
    {
     "name": "stdout",
     "output_type": "stream",
     "text": [
      "<class 'pandas.core.frame.DataFrame'>\n",
      "RangeIndex: 193 entries, 0 to 192\n",
      "Data columns (total 6 columns):\n",
      " #   Column                        Non-Null Count  Dtype  \n",
      "---  ------                        --------------  -----  \n",
      " 0   country                       193 non-null    object \n",
      " 1   beer_servings                 193 non-null    int64  \n",
      " 2   spirit_servings               193 non-null    int64  \n",
      " 3   wine_servings                 193 non-null    int64  \n",
      " 4   total_litres_of_pure_alcohol  193 non-null    float64\n",
      " 5   continent                     170 non-null    object \n",
      "dtypes: float64(1), int64(3), object(2)\n",
      "memory usage: 9.2+ KB\n"
     ]
    }
   ],
   "source": [
    "drinks=pd.read_csv(\"../csv/drinks.csv\")\n",
    "drinks.info()"
   ]
  },
  {
   "cell_type": "code",
   "execution_count": 4,
   "metadata": {},
   "outputs": [
    {
     "data": {
      "text/plain": [
       "country                          0\n",
       "beer_servings                    0\n",
       "spirit_servings                  0\n",
       "wine_servings                    0\n",
       "total_litres_of_pure_alcohol     0\n",
       "continent                       23\n",
       "dtype: int64"
      ]
     },
     "execution_count": 4,
     "metadata": {},
     "output_type": "execute_result"
    }
   ],
   "source": [
    "# 결측치의 개수를 확인하는 코드\n",
    "drinks.isna().sum()\n",
    "\n"
   ]
  },
  {
   "cell_type": "code",
   "execution_count": 5,
   "metadata": {},
   "outputs": [],
   "source": [
    "# 결측치를 'OT'로 대체\n",
    "# 결측치를 대체하는 함수 ->fillna('OT')\n",
    "# drinks.loc[결측치인 조건,'continet'] = 'OT'\n",
    "\n",
    "drinks['continent']=drinks['continent'].fillna(\"OT\")       #.value_counts()\n",
    "# drinks.loc[drinks['continent'].isna(), 'continent']= 'OT'\n",
    "\n"
   ]
  },
  {
   "cell_type": "code",
   "execution_count": 6,
   "metadata": {},
   "outputs": [
    {
     "name": "stderr",
     "output_type": "stream",
     "text": [
      "C:\\Users\\dgh06\\AppData\\Local\\Temp\\ipykernel_38840\\2188668992.py:11: FutureWarning: ['country'] did not aggregate successfully. If any error is raised this will raise in a future version of pandas. Drop these columns/ops to avoid this warning.\n",
      "  group_data=drinks.groupby(['continent']).agg(['mean','min','max','sum'])\n"
     ]
    }
   ],
   "source": [
    "# continent별  spirit_servings컬럼의 평균,최소,최대,합계를 출력\n",
    "# drinks[['continet','spirit_servings']].gorupyby('continent'   ).agg(['mean','max','min','sum'])\n",
    "\n",
    "# pd.pivot_table(\n",
    "#     drinks,\n",
    "#     index=\"continent\",\n",
    "#     values=\"spirit_servings\",\n",
    "#     aggfunc=['mean','max','min','sum']\n",
    "# )\n",
    "\n",
    "group_data=drinks.groupby(['continent']).agg(['mean','min','max','sum'])\n"
   ]
  },
  {
   "cell_type": "code",
   "execution_count": 7,
   "metadata": {},
   "outputs": [],
   "source": [
    "import matplotlib.pyplot as plt"
   ]
  },
  {
   "cell_type": "code",
   "execution_count": 8,
   "metadata": {},
   "outputs": [
    {
     "data": {
      "image/png": "[encoded data removed]",
      "text/plain": [
       "<Figure size 640x480 with 4 Axes>"
      ]
     },
     "metadata": {},
     "output_type": "display_data"
    }
   ],
   "source": [
    "# 바형 그래프\n",
    "# 한 화면에 4개 그래프\n",
    "# bar() x와 y의 값이 필수 항목\n",
    "\n",
    "x=group_data.index\n",
    "# group_data[\"spirit_servings\"]['mean']\n",
    "\n",
    "# subplot(행의 수, 열의 수 , 영역 지정)\n",
    "plt.subplot(2,2,1)\n",
    "plt.bar(x,group_data[\"spirit_servings\"]['mean'])\n",
    "plt.subplot(2,2,2)\n",
    "plt.bar(x,group_data[\"spirit_servings\"]['min'])\n",
    "plt.subplot(2,2,3)\n",
    "plt.bar(x,group_data[\"spirit_servings\"]['max'])\n",
    "plt.subplot(2,2,4)\n",
    "plt.bar(x,group_data[\"spirit_servings\"]['sum'])\n",
    "\n",
    "plt.show()\n"
   ]
  },
  {
   "cell_type": "code",
   "execution_count": 9,
   "metadata": {},
   "outputs": [],
   "source": [
    "# NNN=drinks2[\"total_litres_of_pure_alcohol\"][\"mean\"].mean()\n",
    "\n",
    "# drinks3=drinks2.iloc[:,[-4]] > NNN\n",
    "# drinks3.loc[drinks3[\"total_litres_of_pure_alcohol\"]['mean']].index\n",
    "\n"
   ]
  },
  {
   "attachments": {},
   "cell_type": "markdown",
   "metadata": {},
   "source": [
    "#### 교수님 풀이"
   ]
  },
  {
   "cell_type": "code",
   "execution_count": 10,
   "metadata": {},
   "outputs": [],
   "source": [
    "# 전체 알콜의 소비량의 평균보다 높은 대륙은 어디인가?\n",
    "\n",
    "# 전체 알콜의 소비량의 평균\n",
    "Total_mean = drinks[\"total_litres_of_pure_alcohol\"].mean()"
   ]
  },
  {
   "cell_type": "code",
   "execution_count": 11,
   "metadata": {},
   "outputs": [
    {
     "data": {
      "text/plain": [
       "continent\n",
       "AF    3.007547\n",
       "AS    2.170455\n",
       "EU    8.617778\n",
       "OC    3.381250\n",
       "OT    5.995652\n",
       "SA    6.308333\n",
       "Name: total_litres_of_pure_alcohol, dtype: float64"
      ]
     },
     "execution_count": 11,
     "metadata": {},
     "output_type": "execute_result"
    }
   ],
   "source": [
    "group_data2=drinks[['continent',\"total_litres_of_pure_alcohol\"]].groupby('continent').mean()\n",
    "#group_data2 컬럼 하나므로 series형태로 바꾼다\n",
    "group_data2=drinks[['continent',\"total_litres_of_pure_alcohol\"]].groupby('continent').mean()[\"total_litres_of_pure_alcohol\"]\n",
    "group_data2"
   ]
  },
  {
   "cell_type": "code",
   "execution_count": 12,
   "metadata": {},
   "outputs": [
    {
     "data": {
      "text/plain": [
       "continent\n",
       "EU    8.617778\n",
       "OT    5.995652\n",
       "SA    6.308333\n",
       "Name: total_litres_of_pure_alcohol, dtype: float64"
      ]
     },
     "execution_count": 12,
     "metadata": {},
     "output_type": "execute_result"
    }
   ],
   "source": [
    "group_data2[group_data2>Total_mean]"
   ]
  },
  {
   "cell_type": "code",
   "execution_count": 13,
   "metadata": {},
   "outputs": [],
   "source": [
    "# 7.국가별 술 소비량 대비 알콜 비율 컬럼을 추가\n",
    "\n",
    "\n",
    "# 국가별 술 소비량 파생변수 생성\n",
    "drinks[\"total_servings\"]=drinks['beer_servings'] + drinks[\"spirit_servings\"] +drinks[\"wine_servings\"]"
   ]
  },
  {
   "cell_type": "code",
   "execution_count": 14,
   "metadata": {},
   "outputs": [
    {
     "data": {
      "text/html": [
       "<div>\n",
       "<style scoped>\n",
       "    .dataframe tbody tr th:only-of-type {\n",
       "        vertical-align: middle;\n",
       "    }\n",
       "\n",
       "    .dataframe tbody tr th {\n",
       "        vertical-align: top;\n",
       "    }\n",
       "\n",
       "    .dataframe thead th {\n",
       "        text-align: right;\n",
       "    }\n",
       "</style>\n",
       "<table border=\"1\" class=\"dataframe\">\n",
       "  <thead>\n",
       "    <tr style=\"text-align: right;\">\n",
       "      <th></th>\n",
       "      <th>country</th>\n",
       "      <th>beer_servings</th>\n",
       "      <th>spirit_servings</th>\n",
       "      <th>wine_servings</th>\n",
       "      <th>total_litres_of_pure_alcohol</th>\n",
       "      <th>continent</th>\n",
       "      <th>total_servings</th>\n",
       "    </tr>\n",
       "  </thead>\n",
       "  <tbody>\n",
       "    <tr>\n",
       "      <th>0</th>\n",
       "      <td>Afghanistan</td>\n",
       "      <td>0</td>\n",
       "      <td>0</td>\n",
       "      <td>0</td>\n",
       "      <td>0.0</td>\n",
       "      <td>AS</td>\n",
       "      <td>0</td>\n",
       "    </tr>\n",
       "    <tr>\n",
       "      <th>1</th>\n",
       "      <td>Albania</td>\n",
       "      <td>89</td>\n",
       "      <td>132</td>\n",
       "      <td>54</td>\n",
       "      <td>4.9</td>\n",
       "      <td>EU</td>\n",
       "      <td>275</td>\n",
       "    </tr>\n",
       "  </tbody>\n",
       "</table>\n",
       "</div>"
      ],
      "text/plain": [
       "       country  beer_servings  spirit_servings  wine_servings  \\\n",
       "0  Afghanistan              0                0              0   \n",
       "1      Albania             89              132             54   \n",
       "\n",
       "   total_litres_of_pure_alcohol continent  total_servings  \n",
       "0                           0.0        AS               0  \n",
       "1                           4.9        EU             275  "
      ]
     },
     "execution_count": 14,
     "metadata": {},
     "output_type": "execute_result"
    }
   ],
   "source": [
    "drinks.head(2)"
   ]
  },
  {
   "cell_type": "code",
   "execution_count": 15,
   "metadata": {},
   "outputs": [],
   "source": [
    "# 술 소비량 대비 알콜 비율이라는 파생 변수 생성\n",
    "# (알콜 소비량 / 술 소비량) *100\n",
    "# 결측치가 나온다면 0으로 대체해준다\n",
    "drinks[\"alcohol_rate\"]=(drinks[\"total_litres_of_pure_alcohol\"]/ drinks[\"total_servings\"] * 100).fillna(0)\n"
   ]
  },
  {
   "cell_type": "code",
   "execution_count": 16,
   "metadata": {},
   "outputs": [],
   "source": [
    "# drinks=pd.read_csv(\"../csv/drinks.csv\")\n",
    "# drinks.isna().sum()\n",
    "# drinks['continent']=drinks['continent'].fillna(\"OT\")  \n",
    "\n",
    "# group_data=drinks.groupby(['continent']).agg(['mean','min','max','sum'])\n",
    "\n",
    "# Total_mean = drinks[\"total_litres_of_pure_alcohol\"].mean()\n",
    "\n",
    "# group_data2=drinks[['continent',\"total_litres_of_pure_alcohol\"]].groupby('continent').mean()\n",
    "# #group_data2 컬럼 하나므로 series형태로 바꾼다\n",
    "# group_data2=drinks[['continent',\"total_litres_of_pure_alcohol\"]].groupby('continent').mean()[\"total_litres_of_pure_alcohol\"]\n",
    "\n",
    "# group_data2[group_data2>Total_mean]\n",
    "\n",
    "# drinks[\"total_servings\"]=drinks['beer_servings'] + drinks[\"spirit_servings\"] +drinks[\"wine_servings\"]\n",
    "# drinks[\"alcohol_rate\"]=(drinks[\"total_litres_of_pure_alcohol\"]/ drinks[\"total_servings\"] * 100).fillna(0)"
   ]
  },
  {
   "cell_type": "code",
   "execution_count": 17,
   "metadata": {},
   "outputs": [
    {
     "data": {
      "text/html": [
       "<div>\n",
       "<style scoped>\n",
       "    .dataframe tbody tr th:only-of-type {\n",
       "        vertical-align: middle;\n",
       "    }\n",
       "\n",
       "    .dataframe tbody tr th {\n",
       "        vertical-align: top;\n",
       "    }\n",
       "\n",
       "    .dataframe thead th {\n",
       "        text-align: right;\n",
       "    }\n",
       "</style>\n",
       "<table border=\"1\" class=\"dataframe\">\n",
       "  <thead>\n",
       "    <tr style=\"text-align: right;\">\n",
       "      <th></th>\n",
       "      <th>country</th>\n",
       "      <th>beer_servings</th>\n",
       "      <th>spirit_servings</th>\n",
       "      <th>wine_servings</th>\n",
       "      <th>total_litres_of_pure_alcohol</th>\n",
       "      <th>continent</th>\n",
       "      <th>total_servings</th>\n",
       "      <th>alcohol_rate</th>\n",
       "    </tr>\n",
       "  </thead>\n",
       "  <tbody>\n",
       "    <tr>\n",
       "      <th>0</th>\n",
       "      <td>Gambia</td>\n",
       "      <td>8</td>\n",
       "      <td>0</td>\n",
       "      <td>1</td>\n",
       "      <td>2.4</td>\n",
       "      <td>AF</td>\n",
       "      <td>9</td>\n",
       "      <td>26.666667</td>\n",
       "    </tr>\n",
       "    <tr>\n",
       "      <th>1</th>\n",
       "      <td>Sierra Leone</td>\n",
       "      <td>25</td>\n",
       "      <td>3</td>\n",
       "      <td>2</td>\n",
       "      <td>6.7</td>\n",
       "      <td>AF</td>\n",
       "      <td>30</td>\n",
       "      <td>22.333333</td>\n",
       "    </tr>\n",
       "    <tr>\n",
       "      <th>2</th>\n",
       "      <td>Nigeria</td>\n",
       "      <td>42</td>\n",
       "      <td>5</td>\n",
       "      <td>2</td>\n",
       "      <td>9.1</td>\n",
       "      <td>AF</td>\n",
       "      <td>49</td>\n",
       "      <td>18.571429</td>\n",
       "    </tr>\n",
       "    <tr>\n",
       "      <th>3</th>\n",
       "      <td>Uganda</td>\n",
       "      <td>45</td>\n",
       "      <td>9</td>\n",
       "      <td>0</td>\n",
       "      <td>8.3</td>\n",
       "      <td>AF</td>\n",
       "      <td>54</td>\n",
       "      <td>15.370370</td>\n",
       "    </tr>\n",
       "    <tr>\n",
       "      <th>4</th>\n",
       "      <td>Rwanda</td>\n",
       "      <td>43</td>\n",
       "      <td>2</td>\n",
       "      <td>0</td>\n",
       "      <td>6.8</td>\n",
       "      <td>AF</td>\n",
       "      <td>45</td>\n",
       "      <td>15.111111</td>\n",
       "    </tr>\n",
       "    <tr>\n",
       "      <th>...</th>\n",
       "      <td>...</td>\n",
       "      <td>...</td>\n",
       "      <td>...</td>\n",
       "      <td>...</td>\n",
       "      <td>...</td>\n",
       "      <td>...</td>\n",
       "      <td>...</td>\n",
       "      <td>...</td>\n",
       "    </tr>\n",
       "    <tr>\n",
       "      <th>188</th>\n",
       "      <td>Maldives</td>\n",
       "      <td>0</td>\n",
       "      <td>0</td>\n",
       "      <td>0</td>\n",
       "      <td>0.0</td>\n",
       "      <td>AS</td>\n",
       "      <td>0</td>\n",
       "      <td>0.000000</td>\n",
       "    </tr>\n",
       "    <tr>\n",
       "      <th>189</th>\n",
       "      <td>Libya</td>\n",
       "      <td>0</td>\n",
       "      <td>0</td>\n",
       "      <td>0</td>\n",
       "      <td>0.0</td>\n",
       "      <td>AF</td>\n",
       "      <td>0</td>\n",
       "      <td>0.000000</td>\n",
       "    </tr>\n",
       "    <tr>\n",
       "      <th>190</th>\n",
       "      <td>Iran</td>\n",
       "      <td>0</td>\n",
       "      <td>0</td>\n",
       "      <td>0</td>\n",
       "      <td>0.0</td>\n",
       "      <td>AS</td>\n",
       "      <td>0</td>\n",
       "      <td>0.000000</td>\n",
       "    </tr>\n",
       "    <tr>\n",
       "      <th>191</th>\n",
       "      <td>Kuwait</td>\n",
       "      <td>0</td>\n",
       "      <td>0</td>\n",
       "      <td>0</td>\n",
       "      <td>0.0</td>\n",
       "      <td>AS</td>\n",
       "      <td>0</td>\n",
       "      <td>0.000000</td>\n",
       "    </tr>\n",
       "    <tr>\n",
       "      <th>192</th>\n",
       "      <td>Afghanistan</td>\n",
       "      <td>0</td>\n",
       "      <td>0</td>\n",
       "      <td>0</td>\n",
       "      <td>0.0</td>\n",
       "      <td>AS</td>\n",
       "      <td>0</td>\n",
       "      <td>0.000000</td>\n",
       "    </tr>\n",
       "  </tbody>\n",
       "</table>\n",
       "<p>193 rows × 8 columns</p>\n",
       "</div>"
      ],
      "text/plain": [
       "          country  beer_servings  spirit_servings  wine_servings  \\\n",
       "0          Gambia              8                0              1   \n",
       "1    Sierra Leone             25                3              2   \n",
       "2         Nigeria             42                5              2   \n",
       "3          Uganda             45                9              0   \n",
       "4          Rwanda             43                2              0   \n",
       "..            ...            ...              ...            ...   \n",
       "188      Maldives              0                0              0   \n",
       "189         Libya              0                0              0   \n",
       "190          Iran              0                0              0   \n",
       "191        Kuwait              0                0              0   \n",
       "192   Afghanistan              0                0              0   \n",
       "\n",
       "     total_litres_of_pure_alcohol continent  total_servings  alcohol_rate  \n",
       "0                             2.4        AF               9     26.666667  \n",
       "1                             6.7        AF              30     22.333333  \n",
       "2                             9.1        AF              49     18.571429  \n",
       "3                             8.3        AF              54     15.370370  \n",
       "4                             6.8        AF              45     15.111111  \n",
       "..                            ...       ...             ...           ...  \n",
       "188                           0.0        AS               0      0.000000  \n",
       "189                           0.0        AF               0      0.000000  \n",
       "190                           0.0        AS               0      0.000000  \n",
       "191                           0.0        AS               0      0.000000  \n",
       "192                           0.0        AS               0      0.000000  \n",
       "\n",
       "[193 rows x 8 columns]"
      ]
     },
     "execution_count": 17,
     "metadata": {},
     "output_type": "execute_result"
    }
   ],
   "source": [
    "# 가장 독한 술을 먹는 나라는 어디인가?\n",
    "# 우리나라는 얼마나 독한 술을 마시는가?\n",
    "# 북한은 얼마나 독한 술을 먹는가?\n",
    "\n",
    "drinks_rank = drinks.sort_values('alcohol_rate',ascending= False,ignore_index=True)\n",
    "drinks_rank\n"
   ]
  },
  {
   "cell_type": "code",
   "execution_count": 18,
   "metadata": {},
   "outputs": [
    {
     "data": {
      "text/html": [
       "<div>\n",
       "<style scoped>\n",
       "    .dataframe tbody tr th:only-of-type {\n",
       "        vertical-align: middle;\n",
       "    }\n",
       "\n",
       "    .dataframe tbody tr th {\n",
       "        vertical-align: top;\n",
       "    }\n",
       "\n",
       "    .dataframe thead th {\n",
       "        text-align: right;\n",
       "    }\n",
       "</style>\n",
       "<table border=\"1\" class=\"dataframe\">\n",
       "  <thead>\n",
       "    <tr style=\"text-align: right;\">\n",
       "      <th></th>\n",
       "      <th>country</th>\n",
       "      <th>beer_servings</th>\n",
       "      <th>spirit_servings</th>\n",
       "      <th>wine_servings</th>\n",
       "      <th>total_litres_of_pure_alcohol</th>\n",
       "      <th>continent</th>\n",
       "      <th>total_servings</th>\n",
       "      <th>alcohol_rate</th>\n",
       "    </tr>\n",
       "  </thead>\n",
       "  <tbody>\n",
       "    <tr>\n",
       "      <th>14</th>\n",
       "      <td>South Korea</td>\n",
       "      <td>140</td>\n",
       "      <td>16</td>\n",
       "      <td>9</td>\n",
       "      <td>9.8</td>\n",
       "      <td>AS</td>\n",
       "      <td>165</td>\n",
       "      <td>5.939394</td>\n",
       "    </tr>\n",
       "  </tbody>\n",
       "</table>\n",
       "</div>"
      ],
      "text/plain": [
       "        country  beer_servings  spirit_servings  wine_servings  \\\n",
       "14  South Korea            140               16              9   \n",
       "\n",
       "    total_litres_of_pure_alcohol continent  total_servings  alcohol_rate  \n",
       "14                           9.8        AS             165      5.939394  "
      ]
     },
     "execution_count": 18,
     "metadata": {},
     "output_type": "execute_result"
    }
   ],
   "source": [
    "drinks_rank.loc[drinks_rank['country']=='South Korea']"
   ]
  },
  {
   "cell_type": "code",
   "execution_count": 19,
   "metadata": {},
   "outputs": [
    {
     "data": {
      "text/html": [
       "<div>\n",
       "<style scoped>\n",
       "    .dataframe tbody tr th:only-of-type {\n",
       "        vertical-align: middle;\n",
       "    }\n",
       "\n",
       "    .dataframe tbody tr th {\n",
       "        vertical-align: top;\n",
       "    }\n",
       "\n",
       "    .dataframe thead th {\n",
       "        text-align: right;\n",
       "    }\n",
       "</style>\n",
       "<table border=\"1\" class=\"dataframe\">\n",
       "  <thead>\n",
       "    <tr style=\"text-align: right;\">\n",
       "      <th></th>\n",
       "      <th>country</th>\n",
       "      <th>beer_servings</th>\n",
       "      <th>spirit_servings</th>\n",
       "      <th>wine_servings</th>\n",
       "      <th>total_litres_of_pure_alcohol</th>\n",
       "      <th>continent</th>\n",
       "      <th>total_servings</th>\n",
       "      <th>alcohol_rate</th>\n",
       "    </tr>\n",
       "  </thead>\n",
       "  <tbody>\n",
       "    <tr>\n",
       "      <th>181</th>\n",
       "      <td>North Korea</td>\n",
       "      <td>0</td>\n",
       "      <td>0</td>\n",
       "      <td>0</td>\n",
       "      <td>0.0</td>\n",
       "      <td>AS</td>\n",
       "      <td>0</td>\n",
       "      <td>0.0</td>\n",
       "    </tr>\n",
       "  </tbody>\n",
       "</table>\n",
       "</div>"
      ],
      "text/plain": [
       "         country  beer_servings  spirit_servings  wine_servings  \\\n",
       "181  North Korea              0                0              0   \n",
       "\n",
       "     total_litres_of_pure_alcohol continent  total_servings  alcohol_rate  \n",
       "181                           0.0        AS               0           0.0  "
      ]
     },
     "execution_count": 19,
     "metadata": {},
     "output_type": "execute_result"
    }
   ],
   "source": [
    "drinks_rank.loc[drinks_rank['country']=='North Korea']"
   ]
  },
  {
   "cell_type": "code",
   "execution_count": 20,
   "metadata": {},
   "outputs": [
    {
     "data": {
      "text/plain": [
       "Text(24, 8.939393939393941, 'South Korea: 15')"
      ]
     },
     "execution_count": 20,
     "metadata": {},
     "output_type": "execute_result"
    },
    {
     "data": {
      "image/png": "[encoded data removed]",
      "text/plain": [
       "<Figure size 640x480 with 1 Axes>"
      ]
     },
     "metadata": {},
     "output_type": "display_data"
    }
   ],
   "source": [
    "# 시각화\n",
    "# 우리나라를 그래프에서 표기\n",
    "x =list(range(len(drinks_rank)))\n",
    "y = drinks_rank['alcohol_rate']\n",
    "\n",
    "# 국가 리스트\n",
    "country_list= drinks_rank['country'].tolist()   # .tolist() : 리스트 형식으로 바꾸겠다\n",
    "bar_list = plt.bar(x,y)\n",
    "# plt.show\n",
    "\n",
    "korea_rank = country_list.index('South Korea')\n",
    "korea_alcohol_rate =drinks_rank.loc[drinks_rank['country']== 'South Korea', 'alcohol_rate'].values[0]\n",
    "\n",
    "# 그래프 커스텀\n",
    "# South Korea의 막대의 색상을 변경\n",
    "bar_list[korea_rank].set_color('r')    # .index 리스트의 인덱스값을 찾아주는 것\n",
    "\n",
    "# 그래프에 글씨와 글씨와 화살표 추가\n",
    "\n",
    "plt.annotate('South Korea: ' + str(korea_rank +1),\n",
    "            xy=(korea_rank,korea_alcohol_rate),\n",
    "            xytext = (korea_rank +10,korea_alcohol_rate +3),\n",
    "            arrowprops = dict(facecolor ='r', shrink= 0.05)\n",
    "\n",
    "            \n",
    "            )\n",
    "\n"
   ]
  }
 ],
 "metadata": {
  "kernelspec": {
   "display_name": "Python 3",
   "language": "python",
   "name": "python3"
  },
  "language_info": {
   "codemirror_mode": {
    "name": "ipython",
    "version": 3
   },
   "file_extension": ".py",
   "mimetype": "text/x-python",
   "name": "python",
   "nbconvert_exporter": "python",
   "pygments_lexer": "ipython3",
   "version": "3.11.2"
  },
  "orig_nbformat": 4
 },
 "nbformat": 4,
 "nbformat_minor": 2
}
