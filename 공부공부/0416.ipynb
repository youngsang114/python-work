{
 "cells": [
  {
   "attachments": {},
   "cell_type": "markdown",
   "metadata": {},
   "source": [
    "# 1. 이산확률분포"
   ]
  },
  {
   "attachments": {},
   "cell_type": "markdown",
   "metadata": {},
   "source": [
    "#### A. 이항분포"
   ]
  },
  {
   "cell_type": "code",
   "execution_count": 4,
   "metadata": {},
   "outputs": [],
   "source": [
    "import numpy as np\n",
    "import matplotlib.pyplot as plt\n",
    "from math import factorial\n"
   ]
  },
  {
   "cell_type": "code",
   "execution_count": 5,
   "metadata": {},
   "outputs": [],
   "source": [
    "# Probability density of the binomial distribution\n",
    "# P만큼의 성공확률을 갖는 n 회 시행에 대해서 k회가 성공할 확률을 도출함\n",
    "# bin_disk는 이항분포 함수, nck는 조합,n개중에 k개 선택\n",
    "def bin_dist(k, n, p):\n",
    "    nck = factorial(n) / (factorial(k) * factorial(n - k))\n",
    "    proba_df = nck * pow(p, k) * pow(1-p, n-k)\n",
    "    return proba_df"
   ]
  },
  {
   "cell_type": "code",
   "execution_count": 8,
   "metadata": {},
   "outputs": [
    {
     "name": "stdout",
     "output_type": "stream",
     "text": [
      "[4.74756151e-03 3.05200383e-02 9.15601148e-02 1.70040213e-01\n",
      " 2.18623131e-01 2.06130381e-01 1.47235986e-01 8.11300333e-02\n",
      " 3.47700143e-02 1.15900048e-02 2.98028694e-03 5.80575378e-04\n",
      " 8.29393397e-05 8.20279183e-06 5.02211745e-07 1.43489070e-08]\n"
     ]
    }
   ],
   "source": [
    "# 이항분포 형성\n",
    "# 변수 설정\n",
    "n = 15\n",
    "p = 0.3\n",
    "# x는 0 ~ 15의 값을 가지는 리스트\n",
    "x = np.arange(16)\n",
    "# print(x)\n",
    "# 이항분포 확률을 나타내는 리스트로 성공이 0.3의 확률일 때, 15번 시행한 경우, k번 성공할 확률을 리스트로 나타냄\n",
    "proba_df1 = np.array([bin_dist(k, n, p) for k in range(16)])\n",
    "print(proba_df1)"
   ]
  },
  {
   "cell_type": "code",
   "execution_count": null,
   "metadata": {},
   "outputs": [],
   "source": [
    "# 표를 그리는 코드\n",
    "plt.ylim(0, 0.3)\n",
    "# 그래프의 y축 범위(최소값과 최대값)를 설정하는 데 사용됩니다\n",
    "# 두 개의 인자를 받습니다. 첫 번째 인자는 y축의 최소값, 두 번째 인자는 y축의 최대값입니다.\n",
    "plt.bar(x, proba_df1, color='lightcoral', label = f'independent experiments : {n}, Success proba : {p * 100}%')\n",
    "plt.ylabel('확률')\n",
    "plt.xlabel('성공횟수')\n",
    "plt.legend()\n",
    "plt.show()"
   ]
  }
 ],
 "metadata": {
  "kernelspec": {
   "display_name": "Python 3",
   "language": "python",
   "name": "python3"
  },
  "language_info": {
   "codemirror_mode": {
    "name": "ipython",
    "version": 3
   },
   "file_extension": ".py",
   "mimetype": "text/x-python",
   "name": "python",
   "nbconvert_exporter": "python",
   "pygments_lexer": "ipython3",
   "version": "3.11.2"
  },
  "orig_nbformat": 4
 },
 "nbformat": 4,
 "nbformat_minor": 2
}
